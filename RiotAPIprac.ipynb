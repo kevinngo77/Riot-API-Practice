{
 "cells": [
  {
   "cell_type": "code",
   "execution_count": 42,
   "metadata": {},
   "outputs": [],
   "source": [
    "import pandas as pd"
   ]
  },
  {
   "cell_type": "code",
   "execution_count": 43,
   "metadata": {},
   "outputs": [],
   "source": [
    "matchid = [3610752463, 3610677713, 3610644633, 3610589271, 3610594047, 3610571326, 3607879004, 3607854583, 3607840475, 3607795724, 3607782119, 3607746324, 3606689002, 3605174917, 3604176001, 3604067487, 3604082871, 3602418387, 3602410939, 3602326555, 3601137556, 3601162976, 3601059141, 3601065356, 3600978318, 3599706687, 3599721745, 3599667221, 3599633125, 3598642060, 3598556883, 3598572290, 3598498738, 3597015911, 3596982436, 3596947129, 3596143189, 3596099310, 3596104147, 3596080527, 3595805401, 3595741814, 3595527472, 3595485164, 3595482188, 3595367849, 3595305386, 3594459632, 3594454496, 3594460605, 3594385836, 3594284989, 3594125341, 3594102684, 3594096274, 3593448498, 3593425534, 3593421713, 3593366241, 3593391825, 3593266050, 3593261652, 3593207404, 3592350999, 3590232230, 3590148737, 3590124376, 3590072455, 3590007386, 3589870593, 3589817061, 3589794347, 3589820367, 3588923234, 3588877573, 3588833409, 3588720198, 3588676802, 3588693423, 3588629439, 3587595418, 3587141139, 3586888382, 3586864463, 3586840175, 3586766361]\n",
    "player1 = ['ETango', 'ETango', 'ETango', 'ETango', 'ETango', 'ETango', 'LaiSeeLaiLiu', 'LaiSeeLaiLiu', 'LaiSeeLaiLiu', 'LaiSeeLaiLiu', 'LaiSeeLaiLiu', 'SugarSugarSal', 'LaiSeeLaiLiu', 'Asupi', 'LaiSeeLaiLiu', 'LaiSeeLaiLiu', 'LaiSeeLaiLiu', 'Asupi', 'Asupi', 'Asupi', 'LaiSeeLaiLiu', 'LaiSeeLaiLiu', 'LaiSeeLaiLiu', 'LaiSeeLaiLiu', 'LaiSeeLaiLiu', 'LaiSeeLaiLiu', 'LaiSeeLaiLiu', 'LaiSeeLaiLiu', 'LaiSeeLaiLiu', 'LaiSeeLaiLiu', 'LaiSeeLaiLiu', 'LaiSeeLaiLiu', 'LaiSeeLaiLiu', 'LaiSeeLaiLiu', 'LaiSeeLaiLiu', 'LaiSeeLaiLiu', 'JinJu', 'JinJu', 'JinJu', 'JinJu', 'pikevish', 'LaiSeeLaiLiu', 'Asupi', 'LaiSeeLaiLiu', 'LaiSeeLaiLiu', 'LaiSeeLaiLiu', 'LaiSeeLaiLiu', 'LaiSeeLaiLiu', 'LaiSeeLaiLiu', 'LaiSeeLaiLiu', 'LaiSeeLaiLiu', 'LaiSeeLaiLiu', 'JinJu', 'JinJu', 'JinJu', 'JinJu', 'JinJu', 'LaiSeeLaiLiu', 'LaiSeeLaiLiu', 'LaiSeeLaiLiu', 'LaiSeeLaiLiu', 'LaiSeeLaiLiu', 'LaiSeeLaiLiu', 'bobloblawblah', 'SugarSugarSal', 'LaiSeeLaiLiu', 'LaiSeeLaiLiu', 'LaiSeeLaiLiu', 'LaiSeeLaiLiu', 'LaiSeeLaiLiu', 'LaiSeeLaiLiu', 'LaiSeeLaiLiu', 'LaiSeeLaiLiu', 'LaiSeeLaiLiu', 'LaiSeeLaiLiu', 'LaiSeeLaiLiu', 'LaiSeeLaiLiu', 'LaiSeeLaiLiu', 'LaiSeeLaiLiu', 'LaiSeeLaiLiu', 'cheezzblob', 'LaiSeeLaiLiu', 'JinJu', 'JinJu', 'JinJu', 'LaiSeeLaiLiu']\n",
    "player2 = ['LaiSeeLaiLiu', 'LaiSeeLaiLiu', 'LaiSeeLaiLiu', 'LaiSeeLaiLiu', 'LaiSeeLaiLiu', 'LaiSeeLaiLiu', 'bobloblawblah', 'bobloblawblah', 'bobloblawblah', 'bobloblawblah', 'SugarSugarSal', 'bobloblawblah', 'pikevish', 'LaiSeeLaiLiu', 'pikevish', 'pikevish', 'pikevish', 'LaiSeeLaiLiu', 'LaiSeeLaiLiu', 'SugarSugarSal', 'bobloblawblah', 'bobloblawblah', 'pikevish', 'pikevish', 'bobloblawblah', 'SugarSugarSal', 'PrezMango', 'PrezMango', 'PrezMango', 'SugarSugarSal', 'SugarSugarSal', 'SugarSugarSal', 'pikevish', 'pikevish', 'pikevish', 'bobloblawblah', 'cheezzblob', 'cheezzblob', 'cheezzblob', 'cheezzblob', 'pizardwenis96', 'SugarSugarSal', 'LaiSeeLaiLiu', 'SugarSugarSal', 'SugarSugarSal', 'SugarSugarSal', 'SugarSugarSal', 'SugarSugarSal', 'SugarSugarSal', 'SugarSugarSal', 'SugarSugarSal', 'SugarSugarSal', 'LaiSeeLaiLiu', 'LaiSeeLaiLiu', 'LaiSeeLaiLiu', 'LaiSeeLaiLiu', 'LaiSeeLaiLiu', 'bobloblawblah', 'bobloblawblah', 'pikevish', 'pikevish', 'bobloblawblah', 'bobloblawblah', 'pikevish', 'jh1689', 'jh1689', 'pikevish', 'SugarSugarSal', 'SugarSugarSal', 'bobloblawblah', 'bobloblawblah', 'bobloblawblah', 'pikevish', 'pikevish', 'pikevish', 'SugarSugarSal', 'SugarSugarSal', 'SugarSugarSal', 'SugarSugarSal', 'SugarSugarSal', 'pikevish', 'bobloblawblah', 'LaiSeeLaiLiu', 'LaiSeeLaiLiu', 'LaiSeeLaiLiu', 'SugarSugarSal']\n",
    "player3 = ['cheezzblob', 'pikevish', 'pikevish', 'pikevish', 'pikevish', 'pikevish', 'pikevish', 'pikevish', 'pikevish', 'pikevish', 'bobloblawblah', 'pikevish', 'null', 'pikevish', 'null', 'null', 'null', 'bobloblawblah', 'SugarSugarSal', 'bobloblawblah', 'pikevish', 'pikevish', 'null', 'null', 'pikevish', 'pikevish', 'SugarSugarSal', 'pikevish', 'bobloblawblah', 'pikevish', 'pikevish', 'pikevish', 'pizardwenis96', 'null', 'null', 'pikevish', 'pikevish', 'pikevish', 'pikevish', 'pikevish', 'null', 'pikevish', 'SugarSugarSal', 'bobloblawblah', 'bobloblawblah', 'bobloblawblah', 'bobloblawblah', 'pikevish', 'pikevish', 'bobloblawblah', 'bobloblawblah', 'cheezzblob', 'bobloblawblah', 'bobloblawblah', 'bobloblawblah', 'bobloblawblah', 'bobloblawblah', 'pikevish', 'pikevish', 'null', 'pizardwenis96', 'pikevish', 'pikevish', 'null', 'pikevish', 'pikevish', 'pizardwenis96', 'pikevish', 'pikevish', 'jh1689', 'jh1689', 'jh1689', 'null', 'pizardwenis96', 'pizardwenis96', 'pikevish', 'pikevish', 'pikevish', 'pikevish', 'bobloblawblah', 'null', 'pikevish', 'SugarSugarSal', 'SugarSugarSal', 'SugarSugarSal', 'pikevish']\n",
    "player4 = ['pikevish', 'null', 'null', 'null', 'null', 'null', 'null', 'null', 'null', 'null', 'pikevish', 'null', 'null', 'null', 'null', 'null', 'null', 'pikevish', 'pikevish', 'pikevish', 'null', 'null', 'null', 'null', 'null', 'null', 'pikevish', 'null', 'pikevish', 'pizardwenis96', 'pizardwenis96', 'pizardwenis96', 'null', 'null', 'null', 'null', 'null', 'null', 'null', 'pizardwenis96', 'null', 'null', 'pikevish', 'pikevish', 'pikevish', 'pikevish', 'pikevish', 'pizardwenis96', 'pizardwenis96', 'pikevish', 'igotstostaybly', 'pikevish', 'cheezzblob', 'cheezzblob', 'cheezzblob', 'pikevish', 'pikevish', 'null', 'null', 'null', 'null', 'pizardwenis96', 'null', 'null', 'pizardwenis96', 'pizardwenis96', 'null', 'null', 'null', 'pikevish', 'pikevish', 'pikevish', 'null', 'null', 'null', 'null', 'null', 'null', 'null', 'pikevish', 'null', 'null', 'bobloblawblah', 'pikevish', 'pikevish', 'null']\n",
    "player5 = ['null', 'null', 'null', 'null', 'null', 'null', 'null', 'null', 'null', 'null', 'null', 'null', 'null', 'null', 'null', 'null', 'null', 'null', 'pizardwenis96', 'pizardwenis96', 'null', 'null', 'null', 'null', 'null', 'null', 'null', 'null', 'null', 'null', 'null', 'null', 'null', 'null', 'null', 'null', 'null', 'null', 'null', 'null', 'null', 'null', 'null', 'null', 'null', 'null', 'null', 'null', 'null', 'pizardwenis96', 'pikevish', 'null', 'pikevish', 'pikevish', 'pikevish', 'null', 'null', 'null', 'null', 'null', 'null', 'null', 'null', 'null', 'null', 'null', 'null', 'null', 'null', 'null', 'null', 'null', 'null', 'null', 'null', 'null', 'null', 'null', 'null', 'null', 'null', 'null', 'pikevish', 'null', 'null', 'null']\n",
    "winlose = ['Fail', 'Win', 'Win', 'Fail', 'Win', 'Win', 'Fail', 'Fail', 'Fail', 'Win', 'Fail', 'Fail', 'Fail', 'Win', 'Fail', 'Win', 'Win', 'Win', 'Fail', 'Win', 'Win', 'Fail', 'Fail', 'Win', 'Win', 'Win', 'Fail', 'Fail', 'Fail', 'Win', 'Fail', 'Win', 'Win', 'Fail', 'Win', 'Fail', 'Fail', 'Win', 'Win', 'Fail', 'Fail', 'Fail', 'Fail', 'Fail', 'Fail', 'Fail', 'Win', 'Fail', 'Win', 'Win', 'Win', 'Fail', 'Fail', 'Fail', 'Win', 'Win', 'Fail', 'Fail', 'Fail', 'Win', 'Fail', 'Fail', 'Win', 'Fail', 'Win', 'Fail', 'Win', 'Fail', 'Fail', 'Fail', 'Fail', 'Fail', 'Fail', 'Fail', 'Fail', 'Fail', 'Win', 'Win', 'Win', 'Win', 'Win', 'Fail', 'Fail', 'Fail', 'Win', 'Fail']\n"
   ]
  },
  {
   "cell_type": "code",
   "execution_count": 44,
   "metadata": {},
   "outputs": [],
   "source": [
    "matchid_1 = [3634330031, 3634227528, 3634157189, 3632829503, 3632749183, 3631784871, 3631301579, 3630210975, 3630148249, 3630135283, 3630123176, 3630101620, 3630031612, 3629958762, 3628820263, 3628586674, 3628517973, 3627681982, 3627235403, 3627251772, 3626220755, 3625882479, 3625877097, 3624742742, 3624687966, 3624651905, 3624577746, 3624440246, 3623514539, 3623266190, 3623232743, 3623119311, 3623116654, 3623103605, 3623120857, 3622548853, 3622525597, 3621494213, 3621470696, 3620563957, 3620482595, 3620409213, 3620394210, 3618882420, 3618835192, 3618770313, 3618594519, 3617565048, 3617511437, 3616042329, 3615958085, 3615847155, 3615823814, 3615819947, 3615726810, 3615742169, 3614717008, 3614694327, 3614408897, 3613958702, 3613591930, 3613517925, 3613524128, 3613449454, 3613483873, 3613193865, 3613121216, 3613008366, 3613014851, 3613000565, 3612883139, 3612692097, 3612578473, 3612050921, 3611958201, 3611999940, 3611945554, 3611931933, 3611858499, 3611850038, 3611804119, 3611664353, 3611575741, 3611218578, 3611191720, 3610752463, 3610677713, 3610644633, 3610589271, 3610594047, 3610571326, 3610142723, 3609156499, 3609148273, 3608769868, 3607879004, 3607854583, 3607840475, 3607795724, 3607782119]\n",
    "player1_1 = ['LaiSeeLaiLiu', 'LaiSeeLaiLiu', 'LaiSeeLaiLiu', 'LaiSeeLaiLiu', 'LaiSeeLaiLiu', 'LaiSeeLaiLiu', 'LaiSeeLaiLiu', 'LaiSeeLaiLiu', 'LaiSeeLaiLiu', 'LaiSeeLaiLiu', 'LaiSeeLaiLiu', 'LaiSeeLaiLiu', 'LaiSeeLaiLiu', 'LaiSeeLaiLiu', 'LaiSeeLaiLiu', 'LaiSeeLaiLiu', 'LaiSeeLaiLiu', 'LaiSeeLaiLiu', 'LaiSeeLaiLiu', 'LaiSeeLaiLiu', 'LaiSeeLaiLiu', 'LaiSeeLaiLiu', 'LaiSeeLaiLiu', 'LaiSeeLaiLiu', 'LaiSeeLaiLiu', 'LaiSeeLaiLiu', 'LaiSeeLaiLiu', 'LaiSeeLaiLiu', 'LaiSeeLaiLiu', 'LaiSeeLaiLiu', 'LaiSeeLaiLiu', 'LaiSeeLaiLiu', 'LaiSeeLaiLiu', 'LaiSeeLaiLiu', 'LaiSeeLaiLiu', 'LaiSeeLaiLiu', 'LaiSeeLaiLiu', 'LaiSeeLaiLiu', 'LaiSeeLaiLiu', 'LaiSeeLaiLiu', 'LaiSeeLaiLiu', 'LaiSeeLaiLiu', 'LaiSeeLaiLiu', 'Asupi', 'LaiSeeLaiLiu', 'LaiSeeLaiLiu', 'LaiSeeLaiLiu', 'LaiSeeLaiLiu', 'LaiSeeLaiLiu', 'LaiSeeLaiLiu', 'LaiSeeLaiLiu', 'Asupi', 'Asupi', 'Asupi', 'Asupi', 'LaiSeeLaiLiu', 'LaiSeeLaiLiu', 'LaiSeeLaiLiu', 'LaiSeeLaiLiu', 'LaiSeeLaiLiu', 'LaiSeeLaiLiu', 'LaiSeeLaiLiu', 'LaiSeeLaiLiu', 'LaiSeeLaiLiu', 'LaiSeeLaiLiu', 'LaiSeeLaiLiu', 'LaiSeeLaiLiu', 'LaiSeeLaiLiu', 'LaiSeeLaiLiu', 'LaiSeeLaiLiu', 'LaiSeeLaiLiu', 'LaiSeeLaiLiu', 'LaiSeeLaiLiu', 'LaiSeeLaiLiu', 'LaiSeeLaiLiu', 'LaiSeeLaiLiu', 'LaiSeeLaiLiu', 'LaiSeeLaiLiu', 'LaiSeeLaiLiu', 'LaiSeeLaiLiu', 'LaiSeeLaiLiu', 'LaiSeeLaiLiu', 'LaiSeeLaiLiu', 'LaiSeeLaiLiu', 'LaiSeeLaiLiu', 'ETango', 'ETango', 'ETango', 'ETango', 'ETango', 'ETango', 'LaiSeeLaiLiu', 'LaiSeeLaiLiu', 'LaiSeeLaiLiu', 'LaiSeeLaiLiu', 'LaiSeeLaiLiu', 'LaiSeeLaiLiu', 'LaiSeeLaiLiu', 'LaiSeeLaiLiu', 'LaiSeeLaiLiu']\n",
    "player2_1 = ['null', 'null', 'null', 'null', 'null', 'bobloblawblah', 'null', 'SugarSugarSal', 'SugarSugarSal', 'SugarSugarSal', 'SugarSugarSal', 'bobloblawblah', 'null', 'null', 'bobloblawblah', 'null', 'null', 'bobloblawblah', 'null', 'null', 'bobloblawblah', 'SugarSugarSal', 'SugarSugarSal', 'bobloblawblah', 'bobloblawblah', 'SugarSugarSal', 'SugarSugarSal', 'null', 'bobloblawblah', 'bobloblawblah', 'bobloblawblah', 'bobloblawblah', 'bobloblawblah', 'bobloblawblah', 'bobloblawblah', 'null', 'null', 'SugarSugarSal', 'pikevish', 'pizardwenis96', 'bobloblawblah', 'bobloblawblah', 'bobloblawblah', 'LaiSeeLaiLiu', 'bobloblawblah', 'pikevish', 'null', 'null', 'null', 'SugarSugarSal', 'SugarSugarSal', 'LaiSeeLaiLiu', 'LaiSeeLaiLiu', 'LaiSeeLaiLiu', 'LaiSeeLaiLiu', 'null', 'bobloblawblah', 'bobloblawblah', 'bobloblawblah', 'null', 'SugarSugarSal', 'SugarSugarSal', 'SugarSugarSal', 'SugarSugarSal', 'SugarSugarSal', 'SugarSugarSal', 'SugarSugarSal', 'SugarSugarSal', 'SugarSugarSal', 'SugarSugarSal', 'null', 'null', 'null', 'bobloblawblah', 'bobloblawblah', 'bobloblawblah', 'bobloblawblah', 'pikevish', 'pikevish', 'bobloblawblah', 'bobloblawblah', 'bobloblawblah', 'null', 'bobloblawblah', 'null', 'LaiSeeLaiLiu', 'LaiSeeLaiLiu', 'LaiSeeLaiLiu', 'LaiSeeLaiLiu', 'LaiSeeLaiLiu', 'LaiSeeLaiLiu', 'null', 'SugarSugarSal', 'SugarSugarSal', 'null', 'bobloblawblah', 'bobloblawblah', 'bobloblawblah', 'bobloblawblah', 'SugarSugarSal']\n",
    "player3_1 = ['null', 'null', 'null', 'null', 'null', 'null', 'null', 'bobloblawblah', 'bobloblawblah', 'bobloblawblah', 'bobloblawblah', 'null', 'null', 'null', 'null', 'null', 'null', 'null', 'null', 'null', 'null', 'bobloblawblah', 'null', 'null', 'null', 'bobloblawblah', 'bobloblawblah', 'null', 'null', 'pikevish', 'pikevish', 'pikevish', 'pikevish', 'pikevish', 'pikevish', 'null', 'null', 'bobloblawblah', 'null', 'null', 'null', 'null', 'pizardwenis96', 'pikevish', 'null', 'null', 'null', 'null', 'null', 'pikevish', 'pikevish', 'pikevish', 'pikevish', 'pikevish', 'pikevish', 'null', 'null', 'null', 'null', 'null', 'bobloblawblah', 'bobloblawblah', 'bobloblawblah', 'bobloblawblah', 'bobloblawblah', 'bobloblawblah', 'pikevish', 'pikevish', 'pikevish', 'null', 'null', 'null', 'null', 'pikevish', 'pikevish', 'pikevish', 'pikevish', 'null', 'null', 'pizardwenis96', 'null', 'null', 'null', 'null', 'null', 'cheezzblob', 'pikevish', 'pikevish', 'pikevish', 'pikevish', 'pikevish', 'null', 'bobloblawblah', 'bobloblawblah', 'null', 'pikevish', 'pikevish', 'pikevish', 'pikevish', 'bobloblawblah']\n",
    "player4_1 = ['null', 'null', 'null', 'null', 'null', 'null', 'null', 'pizardwenis96', 'null', 'null', 'null', 'null', 'null', 'null', 'null', 'null', 'null', 'null', 'null', 'null', 'null', 'null', 'null', 'null', 'null', 'null', 'null', 'null', 'null', 'null', 'null', 'null', 'null', 'null', 'null', 'null', 'null', 'null', 'null', 'null', 'null', 'null', 'null', 'null', 'null', 'null', 'null', 'null', 'null', 'null', 'null', 'null', 'null', 'null', 'null', 'null', 'null', 'null', 'null', 'null', 'pikevish', 'pikevish', 'pikevish', 'pikevish', 'pikevish', 'null', 'null', 'null', 'null', 'null', 'null', 'null', 'null', 'null', 'null', 'null', 'null', 'null', 'null', 'null', 'null', 'null', 'null', 'null', 'null', 'pikevish', 'null', 'null', 'null', 'null', 'null', 'null', 'null', 'null', 'null', 'null', 'null', 'null', 'null', 'pikevish']\n",
    "player5_1 = ['null', 'null', 'null', 'null', 'null', 'null', 'null', 'null', 'null', 'null', 'null', 'null', 'null', 'null', 'null', 'null', 'null', 'null', 'null', 'null', 'null', 'null', 'null', 'null', 'null', 'null', 'null', 'null', 'null', 'null', 'null', 'null', 'null', 'null', 'null', 'null', 'null', 'null', 'null', 'null', 'null', 'null', 'null', 'null', 'null', 'null', 'null', 'null', 'null', 'null', 'null', 'null', 'null', 'null', 'null', 'null', 'null', 'null', 'null', 'null', 'null', 'null', 'null', 'null', 'null', 'null', 'null', 'null', 'null', 'null', 'null', 'null', 'null', 'null', 'null', 'null', 'null', 'null', 'null', 'null', 'null', 'null', 'null', 'null', 'null', 'null', 'null', 'null', 'null', 'null', 'null', 'null', 'null', 'null', 'null', 'null', 'null', 'null', 'null', 'null']\n",
    "winlose_1 = ['Fail', 'Fail', 'Win', 'Win', 'Win', 'Win', 'Fail', 'Win', 'Fail', 'Fail', 'Fail', 'Fail', 'Win', 'Fail', 'Fail', 'Fail', 'Fail', 'Win', 'Win', 'Win', 'Win', 'Fail', 'Fail', 'Fail', 'Win', 'Win', 'Fail', 'Fail', 'Win', 'Fail', 'Win', 'Win', 'Fail', 'Win', 'Win', 'Fail', 'Fail', 'Fail', 'Win', 'Fail']\n"
   ]
  },
  {
   "cell_type": "code",
   "execution_count": 45,
   "metadata": {},
   "outputs": [],
   "source": [
    "[3621587021, 3614678251, 3602136575, 3602132643, 3602109868, 3602057002, 3602024051, 3596185855, 3596143189, 3596099310, 3596104147, 3596080527, 3594284989, 3594125341, 3594102684, 3594096274, 3592474245, 3592441561, 3592417131, 3589030511, 3588933609, 3587595418, 3585937649, 3585971073, 3585866427, 3585862887, 3584251387, 3579613435, 3579579063, 3579576415, 3579499295, 3574385170, 3574352561, 3573900693, 3528403249, 3628702886]\n",
    "player1_2 = ['Asupi', 'JinJu', 'LaiSeeLaiLiu', 'LaiSeeLaiLiu', 'LaiSeeLaiLiu', 'LaiSeeLaiLiu', 'LaiSeeLaiLiu', 'JinJu', 'JinJu', 'JinJu', 'JinJu', 'JinJu', 'LaiSeeLaiLiu', 'JinJu', 'JinJu', 'JinJu', 'LaiSeeLaiLiu', 'LaiSeeLaiLiu', 'LaiSeeLaiLiu', 'JinJu', 'JinJu', 'cheezzblob', 'cheezzblob', 'LaiSeeLaiLiu', 'LaiSeeLaiLiu', 'LaiSeeLaiLiu', 'LaiSeeLaiLiu', 'LaiSeeLaiLiu', 'LaiSeeLaiLiu', 'LaiSeeLaiLiu', 'LaiSeeLaiLiu', 'JinJu', 'JinJu', 'JinJu', 'LaiSeeLaiLiu', 'SugarSugarSal']\n",
    "player2_2 = ['JinJu', 'bobloblawblah', 'bobloblawblah', 'bobloblawblah', 'bobloblawblah', 'bobloblawblah', 'bobloblawblah', 'cheezzblob', 'cheezzblob', 'cheezzblob', 'cheezzblob', 'cheezzblob', 'SugarSugarSal', 'LaiSeeLaiLiu', 'LaiSeeLaiLiu', 'LaiSeeLaiLiu', 'bobloblawblah', 'bobloblawblah', 'bobloblawblah', 'cheezzblob', 'cheezzblob', 'pikevish', 'pikevish', 'cheezzblob', 'cheezzblob', 'cheezzblob', 'bobloblawblah', 'cheezzblob', 'cheezzblob', 'cheezzblob', 'PrezMango', 'cheezzblob', 'cheezzblob', 'LaiSeeLaiLiu', 'bobloblawblah', 'bobloblawblah']\n",
    "player3_2 = ['cheezzblob', 'cheezzblob', 'cheezzblob', 'cheezzblob', 'cheezzblob', 'cheezzblob', 'cheezzblob', 'null', 'pikevish', 'pikevish', 'pikevish', 'pikevish', 'cheezzblob', 'bobloblawblah', 'bobloblawblah', 'bobloblawblah', 'cheezzblob', 'cheezzblob', 'cheezzblob', 'null', 'null', 'null', 'pizardwenis96', 'pikevish', 'pizardwenis96', 'pizardwenis96', 'cheezzblob', 'pikevish', 'pikevish', 'pikevish', 'cheezzblob', 'null', 'null', 'bobloblawblah', 'cheezzblob', 'null']\n",
    "player4_2 = ['pikevish', 'pikevish', 'null', 'null', 'null', 'null', 'null', 'null', 'null', 'null', 'null', 'pizardwenis96', 'pikevish', 'cheezzblob', 'cheezzblob', 'cheezzblob', 'null', 'null', 'null', 'null', 'null', 'null', 'null', 'pizardwenis96', 'null', 'null', 'pikevish', 'pizardwenis96', 'pizardwenis96', 'pizardwenis96', 'pikevish', 'null', 'null', 'cheezzblob', 'null', 'null']\n",
    "player5_2 = ['null', 'null', 'null', 'null', 'null', 'null', 'null', 'null', 'null', 'null', 'null', 'null', 'null', 'pikevish', 'pikevish', 'pikevish', 'null', 'null', 'null', 'null', 'null', 'null', 'null', 'null', 'null', 'null', 'null', 'null', 'null', 'null', 'pizardwenis96', 'null', 'null', 'null', 'null', 'null']\n",
    "winlose_2 = ['Fail', 'Fail', 'Fail', 'Win', 'Fail', 'Win', 'Fail', 'Win', 'Win', 'Fail', 'Fail', 'Win', 'Win', 'Win', 'Win', 'Fail', 'Win', 'Win', 'Win', 'Fail', 'Fail', 'Fail', 'Fail', 'Win', 'Fail', 'Fail', 'Win', 'Win', 'Fail', 'Win', 'Fail', 'Fail', 'Win', 'Win', 'Fail', 'Fail']"
   ]
  },
  {
   "cell_type": "code",
   "execution_count": 46,
   "metadata": {},
   "outputs": [],
   "source": [
    "[3620328127, 3620344471, 3620282439, 3618789510, 3618754296, 3613207179, 3608880479, 3607746324, 3606169339, 3606176013, 3606199750, 3606115411, 3604150977, 3602483284, 3602418387, 3602326555, 3602009706, 3601967003, 3601137556, 3601162976, 3600978318, 3600972879, 3599633125, 3599603542, 3599451222, 3599367505, 3599351867, 3596947129, 3596755995, 3595485164, 3595482188, 3595367849, 3595305386, 3595361355, 3594460605, 3594385836, 3593448498, 3593425534, 3593421713, 3606689002, 3605174917, 3604067487, 3601313121, 3601248349, 3601059141, 3599721745, 3599667221, 3597015911, 3596982436, 3593366241, 3593391825, 3593266050, 3593261652, 3593207404, 3590187738, 3590232230, 3590148737, 3590124376, 3588923234, 3588877573, 3588833409, 3588720198, 3602410939, 3595527472, 3583845022, 3582637140, 3582168539, 3582165821, 3581427230, 3544397567, 3531111209]\n",
    "player1_3 = ['bobloblawblah', 'bobloblawblah', 'bobloblawblah', 'SugarSugarSal', 'SugarSugarSal', 'bobloblawblah', 'SugarSugarSal', 'SugarSugarSal', 'LaiSeeLaiLiu', 'LaiSeeLaiLiu', 'PrezMango', 'PrezMango', 'LaiSeeLaiLiu', 'LaiSeeLaiLiu', 'Asupi', 'Asupi', 'LaiSeeLaiLiu', 'LaiSeeLaiLiu', 'LaiSeeLaiLiu', 'LaiSeeLaiLiu', 'LaiSeeLaiLiu', 'LaiSeeLaiLiu', 'LaiSeeLaiLiu', 'LaiSeeLaiLiu', 'JinJu', 'JinJu', 'LaiSeeLaiLiu', 'LaiSeeLaiLiu', 'JinJu', 'LaiSeeLaiLiu', 'LaiSeeLaiLiu', 'LaiSeeLaiLiu', 'LaiSeeLaiLiu', 'LaiSeeLaiLiu', 'LaiSeeLaiLiu', 'LaiSeeLaiLiu', 'JinJu', 'JinJu', 'LaiSeeLaiLiu', 'LaiSeeLaiLiu', 'Asupi', 'LaiSeeLaiLiu', 'LaiSeeLaiLiu', 'LaiSeeLaiLiu', 'LaiSeeLaiLiu', 'LaiSeeLaiLiu', 'LaiSeeLaiLiu', 'LaiSeeLaiLiu', 'LaiSeeLaiLiu', 'LaiSeeLaiLiu', 'LaiSeeLaiLiu', 'LaiSeeLaiLiu', 'LaiSeeLaiLiu', 'LaiSeeLaiLiu', 'SugarSugarSal', 'SugarSugarSal', 'LaiSeeLaiLiu', 'LaiSeeLaiLiu', 'LaiSeeLaiLiu', 'LaiSeeLaiLiu', 'LaiSeeLaiLiu', 'LaiSeeLaiLiu', 'Asupi', 'Asupi', 'Asupi', 'Asupi', 'Asupi', 'Asupi', 'Asupi', 'Asupi', 'Asupi']\n",
    "player2_3 = ['pizardwenis96', 'pizardwenis96', 'pizardwenis96', 'bobloblawblah', 'bobloblawblah', 'null', 'bobloblawblah', 'bobloblawblah', 'SugarSugarSal', 'SugarSugarSal', 'SugarSugarSal', 'SugarSugarSal', 'bobloblawblah', 'bobloblawblah', 'LaiSeeLaiLiu', 'SugarSugarSal', 'bobloblawblah', 'bobloblawblah', 'bobloblawblah', 'bobloblawblah', 'bobloblawblah', 'bobloblawblah', 'PrezMango', 'bobloblawblah', 'LaiSeeLaiLiu', 'LaiSeeLaiLiu', 'bobloblawblah', 'bobloblawblah', 'LaiSeeLaiLiu', 'SugarSugarSal', 'SugarSugarSal', 'SugarSugarSal', 'SugarSugarSal', 'SugarSugarSal', 'SugarSugarSal', 'SugarSugarSal', 'LaiSeeLaiLiu', 'LaiSeeLaiLiu', 'bobloblawblah', 'pikevish', 'LaiSeeLaiLiu', 'pikevish', 'pizardwenis96', 'pizardwenis96', 'pikevish', 'PrezMango', 'PrezMango', 'pikevish', 'pikevish', 'bobloblawblah', 'pikevish', 'pikevish', 'bobloblawblah', 'bobloblawblah', 'jh1689', 'jh1689', 'jh1689', 'pikevish', 'pikevish', 'pikevish', 'SugarSugarSal', 'SugarSugarSal', 'LaiSeeLaiLiu', 'LaiSeeLaiLiu', 'LaiSeeLaiLiu', 'pikevish', 'LaiSeeLaiLiu', 'LaiSeeLaiLiu', 'LaiSeeLaiLiu', 'LaiSeeLaiLiu', 'LaiSeeLaiLiu']\n",
    "player3_3 = ['null', 'null', 'null', 'pikevish', 'pikevish', 'null', 'null', 'pikevish', 'bobloblawblah', 'bobloblawblah', 'bobloblawblah', 'bobloblawblah', 'null', 'null', 'bobloblawblah', 'bobloblawblah', 'null', 'null', 'pikevish', 'pikevish', 'pikevish', 'null', 'bobloblawblah', 'null', 'SugarSugarSal', 'SugarSugarSal', 'null', 'pikevish', 'bobloblawblah', 'bobloblawblah', 'bobloblawblah', 'bobloblawblah', 'bobloblawblah', 'bobloblawblah', 'bobloblawblah', 'bobloblawblah', 'bobloblawblah', 'bobloblawblah', 'pikevish', 'null', 'pikevish', 'null', 'null', 'null', 'null', 'SugarSugarSal', 'pikevish', 'null', 'null', 'pikevish', 'null', 'pizardwenis96', 'pikevish', 'pikevish', 'pizardwenis96', 'pikevish', 'pikevish', 'pizardwenis96', 'pizardwenis96', 'pizardwenis96', 'pikevish', 'pikevish', 'SugarSugarSal', 'SugarSugarSal', 'bobloblawblah', 'null', 'pikevish', 'pikevish', 'pikevish', 'bobloblawblah', 'bobloblawblah']\n",
    "player4_3 = ['null', 'null', 'null', 'null', 'null', 'null', 'null', 'null', 'null', 'null', 'null', 'null', 'null', 'null', 'pikevish', 'pikevish', 'null', 'null', 'null', 'null', 'null', 'null', 'pikevish', 'null', 'bobloblawblah', 'bobloblawblah', 'null', 'null', 'null', 'pikevish', 'pikevish', 'pikevish', 'pikevish', 'null', 'pikevish', 'igotstostaybly', 'pikevish', 'pikevish', 'null', 'null', 'null', 'null', 'null', 'null', 'null', 'pikevish', 'null', 'null', 'null', 'null', 'null', 'null', 'pizardwenis96', 'null', 'null', 'pizardwenis96', 'pizardwenis96', 'null', 'null', 'null', 'null', 'null', 'pikevish', 'pikevish', 'null', 'null', 'null', 'null', 'pizardwenis96', 'igotstostaybly', 'igotstostaybly']\n",
    "player5_3 = ['null', 'null', 'null', 'null', 'null', 'null', 'null', 'null', 'null', 'null', 'null', 'null', 'null', 'null', 'null', 'pizardwenis96', 'null', 'null', 'null', 'null', 'null', 'null', 'null', 'null', 'null', 'null', 'null', 'null', 'null', 'null', 'null', 'null', 'null', 'null', 'pizardwenis96', 'pikevish', 'null', 'null', 'null', 'null', 'null', 'null', 'null', 'null', 'null', 'null', 'null', 'null', 'null', 'null', 'null', 'null', 'null', 'null', 'null', 'null', 'null', 'null', 'null', 'null', 'null', 'null', 'pizardwenis96', 'null', 'null', 'null', 'null', 'null', 'null', 'pikevish', 'pikevish']\n",
    "winlose_3 = ['Fail', 'Win', 'Fail', 'Fail', 'Win', 'Win', 'Fail', 'Fail', 'Win', 'Fail', 'Win', 'Win', 'Fail', 'Fail', 'Win', 'Win', 'Win', 'Fail', 'Win', 'Fail', 'Win', 'Fail', 'Fail', 'Fail', 'Win', 'Fail', 'Fail', 'Fail', 'Win', 'Fail', 'Fail', 'Fail', 'Win', 'Fail', 'Win', 'Win', 'Win', 'Fail', 'Fail', 'Fail', 'Win', 'Win', 'Fail', 'Win', 'Fail', 'Fail', 'Fail', 'Fail', 'Win', 'Fail', 'Win', 'Fail', 'Fail', 'Win', 'Fail', 'Win', 'Fail', 'Win', 'Fail', 'Fail', 'Fail', 'Win', 'Fail', 'Fail', 'Fail', 'Win', 'Fail', 'Fail', 'Win', 'Fail', 'Fail']"
   ]
  },
  {
   "cell_type": "code",
   "execution_count": 47,
   "metadata": {},
   "outputs": [],
   "source": [
    "[3491476431, 3491434101, 3490303948, 3490320779, 3489222278, 3489239763, 3489185687, 3489210783, 3488177867, 3486989071, 3485791611, 3484589986, 3480673626, 3480620332, 3477433124, 3477400052, 3477144458, 3474058220, 3474036691, 3474044191, 3474031061, 3471063090, 3469750692, 3466681897, 3466618920, 3464576841, 3460942130, 3458490801, 3458475554, 3458472306, 3455871351, 3453751683, 3450805104, 3434030665, 3432539679, 3604262828, 3604188897, 3348996716, 3349023502, 3348983195, 3349000377, 3348938319, 3348925678, 3347917047, 3335801702, 3335792528, 3297481964, 3296832784, 3296778885, 3295577979]\n",
    "player1_4 = ['Asupi', 'Asupi', 'Asupi', 'Asupi', 'Asupi', 'Asupi', 'Asupi', 'Asupi', 'Asupi', 'Asupi', 'Asupi', 'Asupi', 'Asupi', 'Asupi', 'Asupi', 'Asupi', 'Asupi', 'Asupi', 'Asupi', 'Asupi', 'Asupi', 'Asupi', 'Asupi', 'Asupi', 'Asupi', 'Asupi', 'Asupi', 'Asupi', 'Asupi', 'Asupi', 'Asupi', 'Asupi', 'Asupi', 'Asupi', 'Asupi', 'ETango', 'ETango', 'ETango', 'ETango', 'ETango', 'ETango', 'ETango', 'ETango', 'ETango', 'Asupi', 'Asupi', 'ETango', 'Asupi', 'Asupi', 'Asupi']\n",
    "player2_4 = ['JinJu', 'JinJu', 'JinJu', 'JinJu', 'JinJu', 'LaiSeeLaiLiu', 'LaiSeeLaiLiu', 'LaiSeeLaiLiu', 'JinJu', 'null', 'LaiSeeLaiLiu', 'JinJu', 'JinJu', 'JinJu', 'JinJu', 'JinJu', 'LaiSeeLaiLiu', 'LaiSeeLaiLiu', 'LaiSeeLaiLiu', 'LaiSeeLaiLiu', 'LaiSeeLaiLiu', 'JinJu', 'LaiSeeLaiLiu', 'LaiSeeLaiLiu', 'LaiSeeLaiLiu', 'LaiSeeLaiLiu', 'JinJu', 'JinJu', 'JinJu', 'JinJu', 'JinJu', 'LaiSeeLaiLiu', 'LaiSeeLaiLiu', 'LaiSeeLaiLiu', 'LaiSeeLaiLiu', 'null', 'null', 'LaiSeeLaiLiu', 'LaiSeeLaiLiu', 'LaiSeeLaiLiu', 'LaiSeeLaiLiu', 'LaiSeeLaiLiu', 'LaiSeeLaiLiu', 'LaiSeeLaiLiu', 'ETango', 'ETango', 'LaiSeeLaiLiu', 'ETango', 'ETango', 'ETango']\n",
    "player3_4 = ['LaiSeeLaiLiu', 'LaiSeeLaiLiu', 'null', 'null', 'cheezzblob', 'cheezzblob', 'pikevish', 'PrezMango', 'LaiSeeLaiLiu', 'null', 'null', 'LaiSeeLaiLiu', 'LaiSeeLaiLiu', 'LaiSeeLaiLiu', 'cheezzblob', 'LaiSeeLaiLiu', 'SugarSugarSal', 'cheezzblob', 'cheezzblob', 'cheezzblob', 'cheezzblob', 'LaiSeeLaiLiu', 'pikevish', 'null', 'null', 'cheezzblob', 'LaiSeeLaiLiu', 'null', 'null', 'null', 'LaiSeeLaiLiu', 'cheezzblob', 'cheezzblob', 'cheezzblob', 'null', 'null', 'null', 'jh1689', 'jh1689', 'jh1689', 'jh1689', 'jh1689', 'jh1689', 'bobloblawblah', 'jh1689', 'jh1689', 'SugarSugarSal', 'LaiSeeLaiLiu', 'LaiSeeLaiLiu', 'LaiSeeLaiLiu']\n",
    "player4_4 = ['cheezzblob', 'cheezzblob', 'null', 'null', 'pikevish', 'pikevish', 'null', 'pikevish', 'cheezzblob', 'null', 'null', 'cheezzblob', 'pikevish', 'pikevish', 'pikevish', 'cheezzblob', 'bobloblawblah', 'null', 'null', 'null', 'null', 'cheezzblob', 'null', 'null', 'null', 'pikevish', 'cheezzblob', 'null', 'null', 'null', 'cheezzblob', 'pikevish', 'null', 'null', 'null', 'null', 'null', 'pikevish', 'pikevish', 'pikevish', 'pikevish', 'pikevish', 'pikevish', 'jh1689', 'pikevish', 'pikevish', 'null', 'bobloblawblah', 'bobloblawblah', 'null']\n",
    "player5_4 = ['null', 'null', 'null', 'null', 'null', 'null', 'null', 'null', 'pikevish', 'null', 'null', 'null', 'null', 'null', 'null', 'null', 'null', 'null', 'null', 'null', 'null', 'null', 'null', 'null', 'null', 'null', 'null', 'null', 'null', 'null', 'pikevish', 'null', 'null', 'null', 'null', 'null', 'null', 'null', 'null', 'null', 'null', 'null', 'null', 'null', 'null', 'null', 'null', 'null', 'null', 'null']\n",
    "winlose_4 = ['Fail', 'Fail', 'Win', 'Win', 'Fail', 'Fail', 'Fail', 'Fail', 'Win', 'Win', 'Win', 'Fail', 'Win', 'Win', 'Win', 'Fail', 'Fail', 'Fail', 'Fail', 'Fail', 'Fail', 'Fail', 'Win', 'Win', 'Fail', 'Fail', 'Win', 'Fail', 'Fail', 'Win', 'Fail', 'Fail', 'Win', 'Fail', 'Fail', 'Win', 'Win', 'Fail', 'Win', 'Fail', 'Fail', 'Fail', 'Win', 'Win', 'Win', 'Win', 'Fail', 'Win', 'Fail', 'Win']"
   ]
  },
  {
   "cell_type": "code",
   "execution_count": 48,
   "metadata": {},
   "outputs": [],
   "source": [
    "[3553807022, 3544392388, 3544364868, 3530888751, 3530894640, 3397270577, 3382822100, 3382726831, 3382750513, 3382676285, 3366056611]\n",
    "player1_5 = ['LaiSeeLaiLiu', 'LaiSeeLaiLiu', 'LaiSeeLaiLiu', 'LaiSeeLaiLiu', 'LaiSeeLaiLiu', 'SugarSugarSal', 'LaiSeeLaiLiu', 'LaiSeeLaiLiu', 'LaiSeeLaiLiu', 'LaiSeeLaiLiu', 'LaiSeeLaiLiu']\n",
    "player2_5 = ['bobloblawblah', 'igotstostaybly', 'igotstostaybly', 'bobloblawblah', 'bobloblawblah', 'igotstostaybly', 'PrezMango', 'PrezMango', 'PrezMango', 'PrezMango', 'igotstostaybly']\n",
    "player3_5 = ['igotstostaybly', 'pikevish', 'pikevish', 'igotstostaybly', 'igotstostaybly', 'pizardwenis96', 'bobloblawblah', 'bobloblawblah', 'bobloblawblah', 'bobloblawblah', 'pikevish']\n",
    "player4_5 = ['pizardwenis96', 'null', 'null', 'jh1689', 'null', 'null', 'igotstostaybly', 'igotstostaybly', 'igotstostaybly', 'igotstostaybly', 'null']\n",
    "player5_5 = ['null', 'null', 'null', 'null', 'null', 'null', 'null', 'null', 'null', 'null', 'null']\n",
    "winlose_5 = ['Win', 'Fail', 'Fail', 'Win', 'Fail', 'Fail', 'Win', 'Fail', 'Win', 'Win', 'Win']"
   ]
  },
  {
   "cell_type": "code",
   "execution_count": 49,
   "metadata": {},
   "outputs": [],
   "source": [
    "[3589870593, 3589817061, 3589794347, 3576522885, 3576448619, 3576484274, 3576499788, 3575427167, 3575451620, 3575387436, 3572977927, 3572685921, 3572663191, 3572647959, 3572615269, 3572592989, 3572556595, 3572564730, 3570542540, 3570488584, 3570463662, 3569388552, 3569335624, 3569268846, 3569274646, 3569222043, 3566481962, 3566397842, 3566309520, 3566345654, 3566294578, 3566291199, 3566264764, 3566252015, 3566216969, 3566154888, 3566149351, 3566096914, 3566099787, 3566047649, 3562645985, 3562610270, 3562556353, 3562523044, 3562550089]\n",
    "player1_6 = ['LaiSeeLaiLiu', 'LaiSeeLaiLiu', 'LaiSeeLaiLiu', 'LaiSeeLaiLiu', 'LaiSeeLaiLiu', 'LaiSeeLaiLiu', 'SugarSugarSal', 'LaiSeeLaiLiu', 'SugarSugarSal', 'LaiSeeLaiLiu', 'jh1689', 'LaiSeeLaiLiu', 'LaiSeeLaiLiu', 'LaiSeeLaiLiu', 'LaiSeeLaiLiu', 'LaiSeeLaiLiu', 'LaiSeeLaiLiu', 'LaiSeeLaiLiu', 'jh1689', 'jh1689', 'jh1689', 'jh1689', 'jh1689', 'jh1689', 'jh1689', 'jh1689', 'LaiSeeLaiLiu', 'LaiSeeLaiLiu', 'LaiSeeLaiLiu', 'LaiSeeLaiLiu', 'LaiSeeLaiLiu', 'bobloblawblah', 'LaiSeeLaiLiu', 'LaiSeeLaiLiu', 'LaiSeeLaiLiu', 'LaiSeeLaiLiu', 'bobloblawblah', 'jh1689', 'jh1689', 'jh1689', 'SugarSugarSal', 'jh1689', 'jh1689', 'jh1689', 'jh1689']\n",
    "player2_6 = ['bobloblawblah', 'bobloblawblah', 'bobloblawblah', 'SugarSugarSal', 'SugarSugarSal', 'SugarSugarSal', 'bobloblawblah', 'bobloblawblah', 'bobloblawblah', 'SugarSugarSal', 'null', 'jh1689', 'bobloblawblah', 'bobloblawblah', 'bobloblawblah', 'bobloblawblah', 'bobloblawblah', 'bobloblawblah', 'null', 'null', 'null', 'null', 'null', 'null', 'null', 'null', 'PrezMango', 'PrezMango', 'bobloblawblah', 'bobloblawblah', 'bobloblawblah', 'jh1689', 'bobloblawblah', 'bobloblawblah', 'bobloblawblah', 'bobloblawblah', 'jh1689', 'null', 'null', 'null', 'bobloblawblah', 'null', 'null', 'null', 'null']\n",
    "player3_6 = ['jh1689', 'jh1689', 'jh1689', 'jh1689', 'jh1689', 'jh1689', 'jh1689', 'jh1689', 'jh1689', 'jh1689', 'null', 'pikevish', 'jh1689', 'jh1689', 'jh1689', 'jh1689', 'jh1689', 'jh1689', 'null', 'null', 'null', 'null', 'null', 'null', 'null', 'null', 'bobloblawblah', 'bobloblawblah', 'jh1689', 'jh1689', 'jh1689', 'pikevish', 'jh1689', 'jh1689', 'jh1689', 'jh1689', 'pikevish', 'null', 'null', 'null', 'jh1689', 'null', 'null', 'null', 'null']\n",
    "player4_6 = ['pikevish', 'pikevish', 'pikevish', 'pikevish', 'pikevish', 'pikevish', 'pikevish', 'pikevish', 'pikevish', 'pikevish', 'null', 'null', 'pikevish', 'pikevish', 'pikevish', 'pikevish', 'null', 'null', 'null', 'null', 'null', 'null', 'null', 'null', 'null', 'null', 'jh1689', 'jh1689', 'pikevish', 'pikevish', 'pikevish', 'null', 'pikevish', 'pikevish', 'pikevish', 'pikevish', 'null', 'null', 'null', 'null', 'null', 'null', 'null', 'null', 'null']\n",
    "player5_6 = ['null', 'null', 'null', 'null', 'null', 'null', 'null', 'null', 'null', 'null', 'null', 'null', 'null', 'null', 'null', 'null', 'null', 'null', 'null', 'null', 'null', 'null', 'null', 'null', 'null', 'null', 'pikevish', 'pikevish', 'null', 'null', 'null', 'null', 'null', 'null', 'null', 'null', 'null', 'null', 'null', 'null', 'null', 'null', 'null', 'null', 'null']\n",
    "winlose_6 = ['Win', 'Win', 'Win', 'Win', 'Win', 'Win', 'Win', 'Win', 'Win', 'Fail', 'Fail', 'Win', 'Win', 'Fail', 'Win', 'Win', 'Fail', 'Fail', 'Win', 'Fail', 'Fail', 'Win', 'Win', 'Fail', 'Fail', 'Win', 'Win', 'Win', 'Fail', 'Fail', 'Win', 'Win', 'Win', 'Fail', 'Fail', 'Fail', 'Fail', 'Win', 'Win', 'Win', 'Win', 'Fail', 'Win', 'Fail', 'Win']"
   ]
  },
  {
   "cell_type": "code",
   "execution_count": 50,
   "metadata": {},
   "outputs": [],
   "source": [
    "[3624347988, 3619720558, 3608602807, 3607113131, 3598776964, 3598754945, 3598731970, 3598546008, 3598532428, 3598477087, 3598451374, 3598437531, 3596803537, 3596759203, 3594730732, 3591376210, 3591403088, 3586888382, 3586864463, 3586840175, 3586796913, 3576723643, 3575323065, 3574237868, 3573821443, 3573152012, 3573136557, 3572816051, 3572841003, 3572189935, 3570146139, 3570182226, 3568709087, 3567626921, 3567643107, 3567660863, 3567315568, 3567275778, 3566210014, 3565853770, 3565832321, 3562423270, 3560113880, 3560059028, 3559002510, 3557760063, 3557716437, 3557685005, 3557658959, 3598642060, 3598556883, 3598572290, 3598498738, 3595805401, 3594459632, 3594454496, 3591437971, 3591433902, 3591421556, 3585710146, 3585676191, 3585642298, 3581358844, 3581344061, 3581310551, 3581234533, 3581189277, 3581184761, 3581002472, 3580928277, 3580935014, 3580891751, 3579345514, 3572896193, 3572872302, 3572801264, 3571612232, 3571538702, 3571515887, 3571484047, 3571448564, 3571404183, 3571397537, 3571393873, 3571390309, 3571327141, 3569470388, 3569338093, 3567896433, 3563818983, 3563738955, 3562903372, 3562830762]\n",
    "player1_7 = ['JinJu', 'JinJu', 'JinJu', 'JinJu', 'JinJu', 'JinJu', 'JinJu', 'JinJu', 'JinJu', 'JinJu', 'JinJu', 'JinJu', 'JinJu', 'JinJu', 'JinJu', 'JinJu', 'JinJu', 'JinJu', 'JinJu', 'JinJu', 'JinJu', 'JinJu', 'JinJu', 'JinJu', 'JinJu', 'JinJu', 'JinJu', 'JinJu', 'JinJu', 'JinJu', 'JinJu', 'JinJu', 'JinJu', 'JinJu', 'JinJu', 'JinJu', 'JinJu', 'JinJu', 'JinJu', 'JinJu', 'JinJu', 'JinJu', 'JinJu', 'JinJu', 'JinJu', 'JinJu', 'JinJu', 'JinJu', 'JinJu', 'LaiSeeLaiLiu', 'LaiSeeLaiLiu', 'LaiSeeLaiLiu', 'LaiSeeLaiLiu', 'pikevish', 'LaiSeeLaiLiu', 'LaiSeeLaiLiu', 'LaiSeeLaiLiu', 'LaiSeeLaiLiu', 'LaiSeeLaiLiu', 'LaiSeeLaiLiu', 'LaiSeeLaiLiu', 'LaiSeeLaiLiu', 'LaiSeeLaiLiu', 'LaiSeeLaiLiu', 'LaiSeeLaiLiu', 'LaiSeeLaiLiu', 'LaiSeeLaiLiu', 'LaiSeeLaiLiu', 'LaiSeeLaiLiu', 'LaiSeeLaiLiu', 'LaiSeeLaiLiu', 'LaiSeeLaiLiu', 'LaiSeeLaiLiu', 'LaiSeeLaiLiu', 'LaiSeeLaiLiu', 'LaiSeeLaiLiu', 'LaiSeeLaiLiu', 'LaiSeeLaiLiu', 'LaiSeeLaiLiu', 'LaiSeeLaiLiu', 'LaiSeeLaiLiu', 'SugarSugarSal', 'LaiSeeLaiLiu', 'LaiSeeLaiLiu', 'LaiSeeLaiLiu', 'LaiSeeLaiLiu', 'LaiSeeLaiLiu', 'LaiSeeLaiLiu', 'SugarSugarSal', 'SugarSugarSal', 'SugarSugarSal', 'SugarSugarSal', 'LaiSeeLaiLiu']\n",
    "player2_7 = ['null', 'null', 'null', 'null', 'null', 'null', 'null', 'null', 'null', 'null', 'null', 'null', 'LaiSeeLaiLiu', 'LaiSeeLaiLiu', 'null', 'null', 'null', 'LaiSeeLaiLiu', 'LaiSeeLaiLiu', 'LaiSeeLaiLiu', 'null', 'null', 'null', 'null', 'null', 'null', 'null', 'null', 'null', 'null', 'null', 'null', 'null', 'null', 'null', 'null', 'null', 'null', 'null', 'null', 'null', 'null', 'null', 'null', 'null', 'null', 'null', 'null', 'null', 'SugarSugarSal', 'SugarSugarSal', 'SugarSugarSal', 'pikevish', 'pizardwenis96', 'SugarSugarSal', 'SugarSugarSal', 'bobloblawblah', 'bobloblawblah', 'pizardwenis96', 'pizardwenis96', 'PrezMango', 'PrezMango', 'pikevish', 'pikevish', 'pikevish', 'pikevish', 'pikevish', 'pikevish', 'pizardwenis96', 'pizardwenis96', 'pizardwenis96', 'SugarSugarSal', 'pikevish', 'pikevish', 'pikevish', 'pikevish', 'SugarSugarSal', 'SugarSugarSal', 'SugarSugarSal', 'SugarSugarSal', 'SugarSugarSal', 'bobloblawblah', 'SugarSugarSal', 'SugarSugarSal', 'SugarSugarSal', 'pizardwenis96', 'SugarSugarSal', 'SugarSugarSal', 'bobloblawblah', 'bobloblawblah', 'bobloblawblah', 'pikevish', 'SugarSugarSal']\n",
    "player3_7 = ['null', 'null', 'null', 'null', 'null', 'null', 'null', 'null', 'null', 'null', 'null', 'null', 'SugarSugarSal', 'SugarSugarSal', 'null', 'null', 'null', 'SugarSugarSal', 'SugarSugarSal', 'SugarSugarSal', 'null', 'null', 'null', 'null', 'null', 'null', 'null', 'null', 'null', 'null', 'null', 'null', 'null', 'null', 'null', 'null', 'null', 'null', 'null', 'null', 'null', 'null', 'null', 'null', 'null', 'null', 'null', 'null', 'null', 'pikevish', 'pikevish', 'pikevish', 'pizardwenis96', 'null', 'pikevish', 'pikevish', 'pizardwenis96', 'pizardwenis96', 'null', 'null', 'pizardwenis96', 'pikevish', 'pizardwenis96', 'pizardwenis96', 'pizardwenis96', 'pizardwenis96', 'pizardwenis96', 'pizardwenis96', 'null', 'null', 'null', 'pizardwenis96', 'pizardwenis96', 'pizardwenis96', 'pizardwenis96', 'pizardwenis96', 'bobloblawblah', 'bobloblawblah', 'bobloblawblah', 'bobloblawblah', 'bobloblawblah', 'pizardwenis96', 'bobloblawblah', 'pizardwenis96', 'pizardwenis96', 'null', 'bobloblawblah', 'bobloblawblah', 'pizardwenis96', 'pikevish', 'pikevish', 'pizardwenis96', 'pikevish']\n",
    "player4_7 = ['null', 'null', 'null', 'null', 'null', 'null', 'null', 'null', 'null', 'null', 'null', 'null', 'null', 'null', 'null', 'null', 'null', 'bobloblawblah', 'pikevish', 'pikevish', 'null', 'null', 'null', 'null', 'null', 'null', 'null', 'null', 'null', 'null', 'null', 'null', 'null', 'null', 'null', 'null', 'null', 'null', 'null', 'null', 'null', 'null', 'null', 'null', 'null', 'null', 'null', 'null', 'null', 'pizardwenis96', 'pizardwenis96', 'pizardwenis96', 'null', 'null', 'pizardwenis96', 'pizardwenis96', 'null', 'null', 'null', 'null', 'null', 'pizardwenis96', 'null', 'null', 'null', 'null', 'null', 'null', 'null', 'null', 'null', 'null', 'null', 'null', 'null', 'null', 'pikevish', 'pikevish', 'pikevish', 'pikevish', 'pikevish', 'null', 'pizardwenis96', 'null', 'null', 'null', 'pizardwenis96', 'pizardwenis96', 'null', 'pizardwenis96', 'pizardwenis96', 'null', 'pizardwenis96']\n",
    "player5_7 = ['null', 'null', 'null', 'null', 'null', 'null', 'null', 'null', 'null', 'null', 'null', 'null', 'null', 'null', 'null', 'null', 'null', 'pikevish', 'null', 'null', 'null', 'null', 'null', 'null', 'null', 'null', 'null', 'null', 'null', 'null', 'null', 'null', 'null', 'null', 'null', 'null', 'null', 'null', 'null', 'null', 'null', 'null', 'null', 'null', 'null', 'null', 'null', 'null', 'null', 'null', 'null', 'null', 'null', 'null', 'null', 'null', 'null', 'null', 'null', 'null', 'null', 'null', 'null', 'null', 'null', 'null', 'null', 'null', 'null', 'null', 'null', 'null', 'null', 'null', 'null', 'null', 'pizardwenis96', 'pizardwenis96', 'pizardwenis96', 'pizardwenis96', 'pizardwenis96', 'null', 'null', 'null', 'null', 'null', 'null', 'null', 'null', 'null', 'null', 'null', 'null']\n",
    "winlose_7 = ['Win', 'Win', 'Win', 'Fail', 'Fail', 'Win', 'Win', 'Fail', 'Fail', 'Fail', 'Win', 'Win', 'Fail', 'Win', 'Fail', 'Fail', 'Win', 'Win', 'Win', 'Fail', 'Win', 'Fail', 'Fail', 'Win', 'Win', 'Fail', 'Fail', 'Fail', 'Fail', 'Fail', 'Win', 'Fail', 'Win', 'Win', 'Fail', 'Fail', 'Fail', 'Win', 'Fail', 'Fail', 'Fail', 'Win', 'Fail', 'Win', 'Win', 'Win', 'Win', 'Win', 'Win', 'Fail', 'Win', 'Fail', 'Fail', 'Win', 'Win', 'Fail', 'Fail', 'Win', 'Fail', 'Fail', 'Fail', 'Fail', 'Win', 'Win', 'Win', 'Win', 'Win', 'Win', 'Win', 'Fail', 'Fail', 'Fail', 'Fail', 'Win', 'Fail', 'Fail', 'Win', 'Fail', 'Fail', 'Win', 'Win', 'Fail', 'Fail', 'Win', 'Fail', 'Fail', 'Win', 'Win', 'Fail', 'Fail', 'Win', 'Win', 'Win']"
   ]
  },
  {
   "cell_type": "code",
   "execution_count": 51,
   "metadata": {},
   "outputs": [],
   "source": [
    "[3562728149, 3562784261, 3561666299, 3561642079, 3561597357, 3560317457, 3560282366, 3560229080, 3560244661, 3559247032, 3557568144, 3557544309, 3553822800, 3536370853, 3536315993, 3606202977, 3558933939, 3558839627, 3556320206, 3556177020, 3556012142, 3541702129, 3541598958, 3538938424, 3507612857, 3507538535, 3497390489, 3497297514, 3497009381, 3496434516, 3496472267, 3496480016, 3495152231, 3495159980, 3495058781, 3489146752, 3489093496, 3483765652, 3483804168, 3483822745, 3480604159, 3480434416, 3476327506, 3476316861, 3476334741, 3476333277, 3476352065, 3474014344, 3469955587, 3469944078, 3469903374, 3468885509, 3468890162, 3468836473, 3467833653, 3467803717, 3467851640, 3467850575, 3454421582, 3452377144, 3451227048, 3451212497, 3451144730, 3451141439, 3451094643, 3449706421, 3449681525, 3449397650]\n",
    "player1_8 = ['LaiSeeLaiLiu', 'LaiSeeLaiLiu', 'LaiSeeLaiLiu', 'LaiSeeLaiLiu', 'LaiSeeLaiLiu', 'LaiSeeLaiLiu', 'LaiSeeLaiLiu', 'LaiSeeLaiLiu', 'bobloblawblah', 'pizardwenis96', 'LaiSeeLaiLiu', 'LaiSeeLaiLiu', 'LaiSeeLaiLiu', 'LaiSeeLaiLiu', 'LaiSeeLaiLiu', 'LaiSeeLaiLiu', 'PrezMango', 'PrezMango', 'LaiSeeLaiLiu', 'LaiSeeLaiLiu', 'PrezMango', 'LaiSeeLaiLiu', 'LaiSeeLaiLiu', 'PrezMango', 'PrezMango', 'PrezMango', 'PrezMango', 'PrezMango', 'PrezMango', 'PrezMango', 'PrezMango', 'PrezMango', 'PrezMango', 'PrezMango', 'PrezMango', 'LaiSeeLaiLiu', 'LaiSeeLaiLiu', 'PrezMango', 'PrezMango', 'PrezMango', 'LaiSeeLaiLiu', 'PrezMango', 'PrezMango', 'PrezMango', 'PrezMango', 'PrezMango', 'PrezMango', 'PrezMango', 'PrezMango', 'PrezMango', 'PrezMango', 'LaiSeeLaiLiu', 'LaiSeeLaiLiu', 'LaiSeeLaiLiu', 'PrezMango', 'PrezMango', 'PrezMango', 'PrezMango', 'LaiSeeLaiLiu', 'PrezMango', 'PrezMango', 'PrezMango', 'PrezMango', 'PrezMango', 'PrezMango', 'PrezMango', 'PrezMango', 'PrezMango']\n",
    "player2_8 = ['SugarSugarSal', 'SugarSugarSal', 'bobloblawblah', 'pizardwenis96', 'pizardwenis96', 'SugarSugarSal', 'SugarSugarSal', 'bobloblawblah', 'pikevish', 'null', 'SugarSugarSal', 'SugarSugarSal', 'bobloblawblah', 'pikevish', 'bobloblawblah', 'PrezMango', 'SugarSugarSal', 'SugarSugarSal', 'PrezMango', 'PrezMango', 'bobloblawblah', 'PrezMango', 'PrezMango', 'null', 'null', 'null', 'null', 'null', 'SugarSugarSal', 'null', 'null', 'null', 'null', 'null', 'null', 'PrezMango', 'PrezMango', 'null', 'null', 'null', 'PrezMango', 'null', 'null', 'null', 'null', 'null', 'null', 'null', 'null', 'null', 'null', 'PrezMango', 'PrezMango', 'PrezMango', 'null', 'null', 'null', 'null', 'PrezMango', 'bobloblawblah', 'bobloblawblah', 'bobloblawblah', 'SugarSugarSal', 'SugarSugarSal', 'SugarSugarSal', 'bobloblawblah', 'SugarSugarSal', 'SugarSugarSal']\n",
    "player3_8 = ['pikevish', 'pizardwenis96', 'pizardwenis96', 'null', 'null', 'bobloblawblah', 'bobloblawblah', 'pikevish', 'pizardwenis96', 'null', 'pikevish', 'bobloblawblah', 'pizardwenis96', 'pizardwenis96', 'pikevish', 'SugarSugarSal', 'bobloblawblah', 'bobloblawblah', 'bobloblawblah', 'bobloblawblah', 'pikevish', 'bobloblawblah', 'bobloblawblah', 'null', 'null', 'null', 'null', 'null', 'bobloblawblah', 'null', 'null', 'null', 'null', 'null', 'null', 'pikevish', 'pikevish', 'null', 'null', 'null', 'SugarSugarSal', 'null', 'null', 'null', 'null', 'null', 'null', 'null', 'null', 'null', 'null', 'SugarSugarSal', 'SugarSugarSal', 'SugarSugarSal', 'null', 'null', 'null', 'null', 'SugarSugarSal', 'null', 'null', 'null', 'bobloblawblah', 'bobloblawblah', 'bobloblawblah', 'null', 'bobloblawblah', 'bobloblawblah']\n",
    "player4_8 = ['pizardwenis96', 'null', 'null', 'null', 'null', 'pizardwenis96', 'pizardwenis96', 'pizardwenis96', 'null', 'null', 'pizardwenis96', 'pikevish', 'null', 'null', 'pizardwenis96', 'null', 'null', 'null', 'pikevish', 'pikevish', 'null', 'null', 'null', 'null', 'null', 'null', 'null', 'null', 'null', 'null', 'null', 'null', 'null', 'null', 'null', 'null', 'null', 'null', 'null', 'null', 'bobloblawblah', 'null', 'null', 'null', 'null', 'null', 'null', 'null', 'null', 'null', 'null', 'null', 'null', 'null', 'null', 'null', 'null', 'null', 'bobloblawblah', 'null', 'null', 'null', 'pizardwenis96', 'pizardwenis96', 'pizardwenis96', 'null', 'null', 'null']\n",
    "player5_8 = ['null', 'null', 'null', 'null', 'null', 'null', 'null', 'null', 'null', 'null', 'null', 'pizardwenis96', 'null', 'null', 'null', 'null', 'null', 'null', 'null', 'null', 'null', 'null', 'null', 'null', 'null', 'null', 'null', 'null', 'null', 'null', 'null', 'null', 'null', 'null', 'null', 'null', 'null', 'null', 'null', 'null', 'null', 'null', 'null', 'null', 'null', 'null', 'null', 'null', 'null', 'null', 'null', 'null', 'null', 'null', 'null', 'null', 'null', 'null', 'null', 'null', 'null', 'null', 'null', 'null', 'null', 'null', 'null', 'null']\n",
    "winlose_8 = ['Win', 'Fail', 'Win', 'Win', 'Win', 'Fail', 'Win', 'Win', 'Win', 'Win', 'Fail', 'Fail', 'Win', 'Fail', 'Fail', 'Win', 'Fail', 'Fail', 'Win', 'Fail', 'Fail', 'Fail', 'Fail', 'Fail', 'Fail', 'Win', 'Fail', 'Win', 'Fail', 'Win', 'Win', 'Win', 'Win', 'Win', 'Fail', 'Win', 'Win', 'Win', 'Win', 'Win', 'Fail', 'Win', 'Win', 'Win', 'Win', 'Win', 'Win', 'Win', 'Fail', 'Fail', 'Fail', 'Win', 'Fail', 'Win', 'Fail', 'Fail', 'Fail', 'Fail', 'Fail', 'Win', 'Win', 'Fail', 'Win', 'Fail', 'Fail', 'Win', 'Win', 'Fail']"
   ]
  },
  {
   "cell_type": "code",
   "execution_count": 52,
   "metadata": {},
   "outputs": [],
   "source": [
    "[3443900132, 3442482147, 3607587229, 3603858412, 3603844048, 3603880041, 3603786037, 3599706687, 3595741814, 3592748419, 3592734780, 3604176001, 3604082871, 3601065356, 3592350999, 3590072455, 3590007386, 3589820367, 3588676802, 3588693423, 3588629439, 3587141139, 3586766361]\n",
    "player1_9 = ['LaiSeeLaiLiu', 'PrezMango', 'SugarSugarSal', 'SugarSugarSal', 'SugarSugarSal', 'SugarSugarSal', 'SugarSugarSal', 'LaiSeeLaiLiu', 'LaiSeeLaiLiu', 'SugarSugarSal', 'SugarSugarSal', 'LaiSeeLaiLiu', 'LaiSeeLaiLiu', 'LaiSeeLaiLiu', 'bobloblawblah', 'LaiSeeLaiLiu', 'LaiSeeLaiLiu', 'LaiSeeLaiLiu', 'LaiSeeLaiLiu', 'LaiSeeLaiLiu', 'LaiSeeLaiLiu', 'LaiSeeLaiLiu', 'LaiSeeLaiLiu']\n",
    "player2_9 = ['PrezMango', 'null', 'null', 'null', 'null', 'null', 'null', 'SugarSugarSal', 'SugarSugarSal', 'bobloblawblah', 'bobloblawblah', 'pikevish', 'pikevish', 'pikevish', 'pikevish', 'SugarSugarSal', 'SugarSugarSal', 'pikevish', 'SugarSugarSal', 'SugarSugarSal', 'SugarSugarSal', 'bobloblawblah', 'SugarSugarSal']\n",
    "player3_9 = ['cheezzblob', 'null', 'null', 'null', 'null', 'null', 'null', 'pikevish', 'pikevish', 'null', 'null', 'null', 'null', 'null', 'null', 'pikevish', 'pikevish', 'null', 'pikevish', 'pikevish', 'bobloblawblah', 'pikevish', 'pikevish']\n",
    "player4_9 = ['pikevish', 'null', 'null', 'null', 'null', 'null', 'null', 'null', 'null', 'null', 'null', 'null', 'null', 'null', 'null', 'null', 'null', 'null', 'null', 'null', 'pikevish', 'null', 'null']\n",
    "player5_9 = ['pizardwenis96', 'null', 'null', 'null', 'null', 'null', 'null', 'null', 'null', 'null', 'null', 'null', 'null', 'null', 'null', 'null', 'null', 'null', 'null', 'null', 'null', 'null', 'null']\n",
    "winlose_9 = ['Win', 'Fail', 'Fail', 'Win', 'Win', 'Fail', 'Fail', 'Fail', 'Win', 'Win', 'Fail', 'Win', 'Fail', 'Fail', 'Win', 'Win', 'Win', 'Win', 'Fail', 'Fail', 'Fail', 'Win', 'Win']"
   ]
  },
  {
   "cell_type": "code",
   "execution_count": 53,
   "metadata": {},
   "outputs": [],
   "source": [
    "[3642237597, 3640742995, 3638802906, 3638729428, 3638555230, 3638581647, 3637654022, 3637370061, 3637326777, 3637294372, 3637351128, 3637244781, 3635598215, 3635594813]\n",
    "player1_10 = ['LaiSeeLaiLiu', 'LaiSeeLaiLiu', 'LaiSeeLaiLiu', 'LaiSeeLaiLiu', 'LaiSeeLaiLiu', 'LaiSeeLaiLiu', 'LaiSeeLaiLiu', 'LaiSeeLaiLiu', 'LaiSeeLaiLiu', 'LaiSeeLaiLiu', 'LaiSeeLaiLiu', 'LaiSeeLaiLiu', 'LaiSeeLaiLiu', 'LaiSeeLaiLiu']\n",
    "player2_10 = ['bobloblawblah', 'pikevish', 'SugarSugarSal', 'SugarSugarSal', 'bobloblawblah', 'null', 'bobloblawblah', 'bobloblawblah', 'bobloblawblah', 'bobloblawblah', 'bobloblawblah', 'null', 'bobloblawblah', 'bobloblawblah']\n",
    "player3_10 = ['pikevish', 'null', 'pikevish', 'pikevish', 'null', 'null', 'pikevish', 'null', 'null', 'null', 'null', 'null', 'null', 'null']\n",
    "player4_10 = ['null', 'null', 'null', 'null', 'null', 'null', 'pizardwenis96', 'null', 'null', 'null', 'null', 'null', 'null', 'null']\n",
    "player5_10 = ['null', 'null', 'null', 'null', 'null', 'null', 'null', 'null', 'null', 'null', 'null', 'null', 'null', 'null']\n",
    "winlose_10 = ['Win', 'Win', 'Win', 'Win', 'Fail', 'Fail', 'Win', 'Fail', 'Win', 'Fail', 'Win', 'Win', 'Fail', 'Fail']"
   ]
  },
  {
   "cell_type": "code",
   "execution_count": 54,
   "metadata": {},
   "outputs": [],
   "source": [
    "df1 = pd.DataFrame(list(zip(player1_1, player2_1, player3_1, player4_1, player5_1, winlose_1)))\n",
    "df2 = pd.DataFrame(list(zip(player1_2, player2_2, player3_2, player4_2, player5_2, winlose_2)))\n",
    "df3 = pd.DataFrame(list(zip(player1_3, player2_3, player3_3, player4_3, player5_3, winlose_3)))\n",
    "df4 = pd.DataFrame(list(zip(player1_4, player2_4, player3_4, player4_4, player5_4, winlose_4)))\n",
    "df5 = pd.DataFrame(list(zip(player1_5, player2_5, player3_5, player4_5, player5_5, winlose_5)))\n",
    "df6 = pd.DataFrame(list(zip(player1_6, player2_6, player3_6, player4_6, player5_6, winlose_6)))\n",
    "df7 = pd.DataFrame(list(zip(player1_7, player2_7, player3_7, player4_7, player5_7, winlose_7)))\n",
    "df8 = pd.DataFrame(list(zip(player1_8, player2_8, player3_8, player4_8, player5_8, winlose_8)))\n",
    "df9 = pd.DataFrame(list(zip(player1_9, player2_9, player3_9, player4_9, player5_9, winlose_9)))\n",
    "df10 = pd.DataFrame(list(zip(player1_10, player2_10, player3_10, player4_10, player5_10, winlose_10)))"
   ]
  },
  {
   "cell_type": "code",
   "execution_count": 55,
   "metadata": {},
   "outputs": [],
   "source": [
    "frames = [df1, df2, df3, df4, df5, df6, df7, df8, df9, df10]\n",
    "df = pd.concat(frames)"
   ]
  },
  {
   "cell_type": "code",
   "execution_count": 79,
   "metadata": {},
   "outputs": [],
   "source": [
    "rosters = [] \n",
    "for i in range(len(df)) : \n",
    "    if [df.iloc[i, 0], df.iloc[i, 1], df.iloc[i, 2], df.iloc[i, 3], df.iloc[i, 4]] not in rosters:\n",
    "        rosters.append([df.iloc[i, 0], df.iloc[i, 1], df.iloc[i, 2], df.iloc[i, 3], df.iloc[i, 4]])"
   ]
  },
  {
   "cell_type": "code",
   "execution_count": 80,
   "metadata": {},
   "outputs": [],
   "source": [
    "narrative = {}\n",
    "for item in rosters:\n",
    "    str_rosters = str(item)\n",
    "    narrative[str_rosters] = [0, 0]"
   ]
  },
  {
   "cell_type": "code",
   "execution_count": 81,
   "metadata": {},
   "outputs": [],
   "source": [
    "for i in range(len(df)): \n",
    "    if df.iloc[i, 5] == 'Win':\n",
    "        narrative[str([df.iloc[i, 0], df.iloc[i, 1], df.iloc[i, 2], df.iloc[i, 3], df.iloc[i, 4]])][0] += 1\n",
    "    narrative[str([df.iloc[i, 0], df.iloc[i, 1], df.iloc[i, 2], df.iloc[i, 3], df.iloc[i, 4]])][1] += 1"
   ]
  },
  {
   "cell_type": "code",
   "execution_count": 59,
   "metadata": {
    "scrolled": false
   },
   "outputs": [],
   "source": [
    "narrativewinrate = {}\n",
    "for items in narrative:\n",
    "    narrativewinrate[items] = narrative[items][0]/narrative[items][1]"
   ]
  },
  {
   "cell_type": "code",
   "execution_count": 60,
   "metadata": {},
   "outputs": [
    {
     "data": {
      "text/html": [
       "<div>\n",
       "<style scoped>\n",
       "    .dataframe tbody tr th:only-of-type {\n",
       "        vertical-align: middle;\n",
       "    }\n",
       "\n",
       "    .dataframe tbody tr th {\n",
       "        vertical-align: top;\n",
       "    }\n",
       "\n",
       "    .dataframe thead th {\n",
       "        text-align: right;\n",
       "    }\n",
       "</style>\n",
       "<table border=\"1\" class=\"dataframe\">\n",
       "  <thead>\n",
       "    <tr style=\"text-align: right;\">\n",
       "      <th></th>\n",
       "      <th>0</th>\n",
       "    </tr>\n",
       "  </thead>\n",
       "  <tbody>\n",
       "    <tr>\n",
       "      <th>['LaiSeeLaiLiu', 'null', 'null', 'null', 'null']</th>\n",
       "      <td>0.411765</td>\n",
       "    </tr>\n",
       "    <tr>\n",
       "      <th>['LaiSeeLaiLiu', 'bobloblawblah', 'null', 'null', 'null']</th>\n",
       "      <td>0.363636</td>\n",
       "    </tr>\n",
       "    <tr>\n",
       "      <th>['LaiSeeLaiLiu', 'SugarSugarSal', 'bobloblawblah', 'pizardwenis96', 'null']</th>\n",
       "      <td>0.666667</td>\n",
       "    </tr>\n",
       "    <tr>\n",
       "      <th>['LaiSeeLaiLiu', 'SugarSugarSal', 'bobloblawblah', 'null', 'null']</th>\n",
       "      <td>0.200000</td>\n",
       "    </tr>\n",
       "    <tr>\n",
       "      <th>['LaiSeeLaiLiu', 'SugarSugarSal', 'null', 'null', 'null']</th>\n",
       "      <td>0.000000</td>\n",
       "    </tr>\n",
       "    <tr>\n",
       "      <th>...</th>\n",
       "      <td>...</td>\n",
       "    </tr>\n",
       "    <tr>\n",
       "      <th>['LaiSeeLaiLiu', 'PrezMango', 'SugarSugarSal', 'bobloblawblah', 'null']</th>\n",
       "      <td>0.000000</td>\n",
       "    </tr>\n",
       "    <tr>\n",
       "      <th>['PrezMango', 'bobloblawblah', 'null', 'null', 'null']</th>\n",
       "      <td>0.750000</td>\n",
       "    </tr>\n",
       "    <tr>\n",
       "      <th>['PrezMango', 'SugarSugarSal', 'bobloblawblah', 'pizardwenis96', 'null']</th>\n",
       "      <td>0.333333</td>\n",
       "    </tr>\n",
       "    <tr>\n",
       "      <th>['SugarSugarSal', 'null', 'null', 'null', 'null']</th>\n",
       "      <td>0.400000</td>\n",
       "    </tr>\n",
       "    <tr>\n",
       "      <th>['bobloblawblah', 'pikevish', 'null', 'null', 'null']</th>\n",
       "      <td>1.000000</td>\n",
       "    </tr>\n",
       "  </tbody>\n",
       "</table>\n",
       "<p>108 rows × 1 columns</p>\n",
       "</div>"
      ],
      "text/plain": [
       "                                                           0\n",
       "['LaiSeeLaiLiu', 'null', 'null', 'null', 'null']    0.411765\n",
       "['LaiSeeLaiLiu', 'bobloblawblah', 'null', 'null...  0.363636\n",
       "['LaiSeeLaiLiu', 'SugarSugarSal', 'bobloblawbla...  0.666667\n",
       "['LaiSeeLaiLiu', 'SugarSugarSal', 'bobloblawbla...  0.200000\n",
       "['LaiSeeLaiLiu', 'SugarSugarSal', 'null', 'null...  0.000000\n",
       "...                                                      ...\n",
       "['LaiSeeLaiLiu', 'PrezMango', 'SugarSugarSal', ...  0.000000\n",
       "['PrezMango', 'bobloblawblah', 'null', 'null', ...  0.750000\n",
       "['PrezMango', 'SugarSugarSal', 'bobloblawblah',...  0.333333\n",
       "['SugarSugarSal', 'null', 'null', 'null', 'null']   0.400000\n",
       "['bobloblawblah', 'pikevish', 'null', 'null', '...  1.000000\n",
       "\n",
       "[108 rows x 1 columns]"
      ]
     },
     "execution_count": 60,
     "metadata": {},
     "output_type": "execute_result"
    }
   ],
   "source": [
    "dfwinrate = pd.DataFrame.from_dict(narrativewinrate, orient='index')\n",
    "dfwinrate"
   ]
  },
  {
   "cell_type": "code",
   "execution_count": 78,
   "metadata": {},
   "outputs": [
    {
     "data": {
      "text/html": [
       "<div>\n",
       "<style scoped>\n",
       "    .dataframe tbody tr th:only-of-type {\n",
       "        vertical-align: middle;\n",
       "    }\n",
       "\n",
       "    .dataframe tbody tr th {\n",
       "        vertical-align: top;\n",
       "    }\n",
       "\n",
       "    .dataframe thead th {\n",
       "        text-align: right;\n",
       "    }\n",
       "</style>\n",
       "<table border=\"1\" class=\"dataframe\">\n",
       "  <thead>\n",
       "    <tr style=\"text-align: right;\">\n",
       "      <th></th>\n",
       "      <th>['LaiSeeLaiLiu', 'null', 'null', 'null', 'null']</th>\n",
       "      <th>['LaiSeeLaiLiu', 'bobloblawblah', 'null', 'null', 'null']</th>\n",
       "      <th>['LaiSeeLaiLiu', 'SugarSugarSal', 'bobloblawblah', 'pizardwenis96', 'null']</th>\n",
       "      <th>['LaiSeeLaiLiu', 'SugarSugarSal', 'bobloblawblah', 'null', 'null']</th>\n",
       "      <th>['LaiSeeLaiLiu', 'bobloblawblah', 'pikevish', 'null', 'null']</th>\n",
       "      <th>['LaiSeeLaiLiu', 'pikevish', 'null', 'null', 'null']</th>\n",
       "      <th>['LaiSeeLaiLiu', 'pizardwenis96', 'null', 'null', 'null']</th>\n",
       "      <th>['LaiSeeLaiLiu', 'bobloblawblah', 'cheezzblob', 'null', 'null']</th>\n",
       "      <th>['JinJu', 'cheezzblob', 'null', 'null', 'null']</th>\n",
       "      <th>['PrezMango', 'SugarSugarSal', 'bobloblawblah', 'null', 'null']</th>\n",
       "      <th>...</th>\n",
       "      <th>['Asupi', 'JinJu', 'LaiSeeLaiLiu', 'cheezzblob', 'null']</th>\n",
       "      <th>['Asupi', 'JinJu', 'null', 'null', 'null']</th>\n",
       "      <th>['Asupi', 'LaiSeeLaiLiu', 'cheezzblob', 'null', 'null']</th>\n",
       "      <th>['ETango', 'LaiSeeLaiLiu', 'jh1689', 'pikevish', 'null']</th>\n",
       "      <th>['LaiSeeLaiLiu', 'bobloblawblah', 'jh1689', 'pikevish', 'null']</th>\n",
       "      <th>['jh1689', 'null', 'null', 'null', 'null']</th>\n",
       "      <th>['JinJu', 'null', 'null', 'null', 'null']</th>\n",
       "      <th>['LaiSeeLaiLiu', 'SugarSugarSal', 'pikevish', 'pizardwenis96', 'null']</th>\n",
       "      <th>['PrezMango', 'null', 'null', 'null', 'null']</th>\n",
       "      <th>['SugarSugarSal', 'null', 'null', 'null', 'null']</th>\n",
       "    </tr>\n",
       "  </thead>\n",
       "  <tbody>\n",
       "    <tr>\n",
       "      <th>0</th>\n",
       "      <td>7</td>\n",
       "      <td>8</td>\n",
       "      <td>4</td>\n",
       "      <td>2</td>\n",
       "      <td>9</td>\n",
       "      <td>7</td>\n",
       "      <td>4</td>\n",
       "      <td>5</td>\n",
       "      <td>2</td>\n",
       "      <td>3</td>\n",
       "      <td>...</td>\n",
       "      <td>1</td>\n",
       "      <td>3</td>\n",
       "      <td>1</td>\n",
       "      <td>2</td>\n",
       "      <td>9</td>\n",
       "      <td>9</td>\n",
       "      <td>22</td>\n",
       "      <td>4</td>\n",
       "      <td>17</td>\n",
       "      <td>2</td>\n",
       "    </tr>\n",
       "    <tr>\n",
       "      <th>1</th>\n",
       "      <td>17</td>\n",
       "      <td>22</td>\n",
       "      <td>6</td>\n",
       "      <td>10</td>\n",
       "      <td>15</td>\n",
       "      <td>12</td>\n",
       "      <td>11</td>\n",
       "      <td>9</td>\n",
       "      <td>5</td>\n",
       "      <td>7</td>\n",
       "      <td>...</td>\n",
       "      <td>6</td>\n",
       "      <td>5</td>\n",
       "      <td>6</td>\n",
       "      <td>6</td>\n",
       "      <td>15</td>\n",
       "      <td>16</td>\n",
       "      <td>44</td>\n",
       "      <td>8</td>\n",
       "      <td>29</td>\n",
       "      <td>5</td>\n",
       "    </tr>\n",
       "  </tbody>\n",
       "</table>\n",
       "<p>2 rows × 25 columns</p>\n",
       "</div>"
      ],
      "text/plain": [
       "   ['LaiSeeLaiLiu', 'null', 'null', 'null', 'null']  \\\n",
       "0                                                 7   \n",
       "1                                                17   \n",
       "\n",
       "   ['LaiSeeLaiLiu', 'bobloblawblah', 'null', 'null', 'null']  \\\n",
       "0                                                  8           \n",
       "1                                                 22           \n",
       "\n",
       "   ['LaiSeeLaiLiu', 'SugarSugarSal', 'bobloblawblah', 'pizardwenis96', 'null']  \\\n",
       "0                                                  4                             \n",
       "1                                                  6                             \n",
       "\n",
       "   ['LaiSeeLaiLiu', 'SugarSugarSal', 'bobloblawblah', 'null', 'null']  \\\n",
       "0                                                  2                    \n",
       "1                                                 10                    \n",
       "\n",
       "   ['LaiSeeLaiLiu', 'bobloblawblah', 'pikevish', 'null', 'null']  \\\n",
       "0                                                  9               \n",
       "1                                                 15               \n",
       "\n",
       "   ['LaiSeeLaiLiu', 'pikevish', 'null', 'null', 'null']  \\\n",
       "0                                                  7      \n",
       "1                                                 12      \n",
       "\n",
       "   ['LaiSeeLaiLiu', 'pizardwenis96', 'null', 'null', 'null']  \\\n",
       "0                                                  4           \n",
       "1                                                 11           \n",
       "\n",
       "   ['LaiSeeLaiLiu', 'bobloblawblah', 'cheezzblob', 'null', 'null']  \\\n",
       "0                                                  5                 \n",
       "1                                                  9                 \n",
       "\n",
       "   ['JinJu', 'cheezzblob', 'null', 'null', 'null']  \\\n",
       "0                                                2   \n",
       "1                                                5   \n",
       "\n",
       "   ['PrezMango', 'SugarSugarSal', 'bobloblawblah', 'null', 'null']  ...  \\\n",
       "0                                                  3                ...   \n",
       "1                                                  7                ...   \n",
       "\n",
       "   ['Asupi', 'JinJu', 'LaiSeeLaiLiu', 'cheezzblob', 'null']  \\\n",
       "0                                                  1          \n",
       "1                                                  6          \n",
       "\n",
       "   ['Asupi', 'JinJu', 'null', 'null', 'null']  \\\n",
       "0                                           3   \n",
       "1                                           5   \n",
       "\n",
       "   ['Asupi', 'LaiSeeLaiLiu', 'cheezzblob', 'null', 'null']  \\\n",
       "0                                                  1         \n",
       "1                                                  6         \n",
       "\n",
       "   ['ETango', 'LaiSeeLaiLiu', 'jh1689', 'pikevish', 'null']  \\\n",
       "0                                                  2          \n",
       "1                                                  6          \n",
       "\n",
       "   ['LaiSeeLaiLiu', 'bobloblawblah', 'jh1689', 'pikevish', 'null']  \\\n",
       "0                                                  9                 \n",
       "1                                                 15                 \n",
       "\n",
       "   ['jh1689', 'null', 'null', 'null', 'null']  \\\n",
       "0                                           9   \n",
       "1                                          16   \n",
       "\n",
       "   ['JinJu', 'null', 'null', 'null', 'null']  \\\n",
       "0                                         22   \n",
       "1                                         44   \n",
       "\n",
       "   ['LaiSeeLaiLiu', 'SugarSugarSal', 'pikevish', 'pizardwenis96', 'null']  \\\n",
       "0                                                  4                        \n",
       "1                                                  8                        \n",
       "\n",
       "   ['PrezMango', 'null', 'null', 'null', 'null']  \\\n",
       "0                                             17   \n",
       "1                                             29   \n",
       "\n",
       "   ['SugarSugarSal', 'null', 'null', 'null', 'null']  \n",
       "0                                                  2  \n",
       "1                                                  5  \n",
       "\n",
       "[2 rows x 25 columns]"
      ]
     },
     "execution_count": 78,
     "metadata": {},
     "output_type": "execute_result"
    }
   ],
   "source": [
    "plotdf = pd.DataFrame.from_dict(narrative)\n",
    "plotdf"
   ]
  },
  {
   "cell_type": "code",
   "execution_count": 68,
   "metadata": {},
   "outputs": [],
   "source": [
    "index = 0\n",
    "newlist = []\n",
    "filter_narrative = narrative\n",
    "for item in narrative:\n",
    "    if narrative[item][1] < 5:\n",
    "        newlist.append(item)\n",
    "\n",
    "\n",
    "for i in newlist:\n",
    "    del filter_narrative[i]"
   ]
  },
  {
   "cell_type": "code",
   "execution_count": 69,
   "metadata": {},
   "outputs": [],
   "source": [
    "narrativewinratefiltered = {}\n",
    "for items in narrative:\n",
    "    narrativewinratefiltered[items] = narrative[items][0]/narrative[items][1]"
   ]
  },
  {
   "cell_type": "code",
   "execution_count": 70,
   "metadata": {},
   "outputs": [],
   "source": [
    "plotdf = pd.DataFrame.from_dict(filter_narrative)"
   ]
  },
  {
   "cell_type": "code",
   "execution_count": 71,
   "metadata": {},
   "outputs": [],
   "source": [
    "dfwinratefilter = pd.DataFrame.from_dict(narrativewinratefiltered, orient='index')"
   ]
  },
  {
   "cell_type": "code",
   "execution_count": 72,
   "metadata": {},
   "outputs": [
    {
     "data": {
      "text/plain": [
       "<matplotlib.axes._subplots.AxesSubplot at 0x1a2e5080970>"
      ]
     },
     "execution_count": 72,
     "metadata": {},
     "output_type": "execute_result"
    },
    {
     "data": {
      "image/png": "[encoded data removed]",
      "text/plain": [
       "<Figure size 1008x432 with 1 Axes>"
      ]
     },
     "metadata": {
      "needs_background": "light"
     },
     "output_type": "display_data"
    }
   ],
   "source": [
    "dfwinratefilter.plot(kind='bar', figsize=(14,6))"
   ]
  },
  {
   "cell_type": "code",
   "execution_count": 73,
   "metadata": {},
   "outputs": [
    {
     "data": {
      "text/html": [
       "<div>\n",
       "<style scoped>\n",
       "    .dataframe tbody tr th:only-of-type {\n",
       "        vertical-align: middle;\n",
       "    }\n",
       "\n",
       "    .dataframe tbody tr th {\n",
       "        vertical-align: top;\n",
       "    }\n",
       "\n",
       "    .dataframe thead th {\n",
       "        text-align: right;\n",
       "    }\n",
       "</style>\n",
       "<table border=\"1\" class=\"dataframe\">\n",
       "  <thead>\n",
       "    <tr style=\"text-align: right;\">\n",
       "      <th></th>\n",
       "      <th>['LaiSeeLaiLiu', 'null', 'null', 'null', 'null']</th>\n",
       "      <th>['LaiSeeLaiLiu', 'bobloblawblah', 'null', 'null', 'null']</th>\n",
       "      <th>['LaiSeeLaiLiu', 'SugarSugarSal', 'bobloblawblah', 'pizardwenis96', 'null']</th>\n",
       "      <th>['LaiSeeLaiLiu', 'SugarSugarSal', 'bobloblawblah', 'null', 'null']</th>\n",
       "      <th>['LaiSeeLaiLiu', 'bobloblawblah', 'pikevish', 'null', 'null']</th>\n",
       "      <th>['LaiSeeLaiLiu', 'pikevish', 'null', 'null', 'null']</th>\n",
       "      <th>['LaiSeeLaiLiu', 'pizardwenis96', 'null', 'null', 'null']</th>\n",
       "      <th>['LaiSeeLaiLiu', 'bobloblawblah', 'cheezzblob', 'null', 'null']</th>\n",
       "      <th>['JinJu', 'cheezzblob', 'null', 'null', 'null']</th>\n",
       "      <th>['PrezMango', 'SugarSugarSal', 'bobloblawblah', 'null', 'null']</th>\n",
       "      <th>...</th>\n",
       "      <th>['Asupi', 'JinJu', 'LaiSeeLaiLiu', 'cheezzblob', 'null']</th>\n",
       "      <th>['Asupi', 'JinJu', 'null', 'null', 'null']</th>\n",
       "      <th>['Asupi', 'LaiSeeLaiLiu', 'cheezzblob', 'null', 'null']</th>\n",
       "      <th>['ETango', 'LaiSeeLaiLiu', 'jh1689', 'pikevish', 'null']</th>\n",
       "      <th>['LaiSeeLaiLiu', 'bobloblawblah', 'jh1689', 'pikevish', 'null']</th>\n",
       "      <th>['jh1689', 'null', 'null', 'null', 'null']</th>\n",
       "      <th>['JinJu', 'null', 'null', 'null', 'null']</th>\n",
       "      <th>['LaiSeeLaiLiu', 'SugarSugarSal', 'pikevish', 'pizardwenis96', 'null']</th>\n",
       "      <th>['PrezMango', 'null', 'null', 'null', 'null']</th>\n",
       "      <th>['SugarSugarSal', 'null', 'null', 'null', 'null']</th>\n",
       "    </tr>\n",
       "  </thead>\n",
       "  <tbody>\n",
       "    <tr>\n",
       "      <th>0</th>\n",
       "      <td>7</td>\n",
       "      <td>8</td>\n",
       "      <td>4</td>\n",
       "      <td>2</td>\n",
       "      <td>9</td>\n",
       "      <td>7</td>\n",
       "      <td>4</td>\n",
       "      <td>5</td>\n",
       "      <td>2</td>\n",
       "      <td>3</td>\n",
       "      <td>...</td>\n",
       "      <td>1</td>\n",
       "      <td>3</td>\n",
       "      <td>1</td>\n",
       "      <td>2</td>\n",
       "      <td>9</td>\n",
       "      <td>9</td>\n",
       "      <td>22</td>\n",
       "      <td>4</td>\n",
       "      <td>17</td>\n",
       "      <td>2</td>\n",
       "    </tr>\n",
       "    <tr>\n",
       "      <th>1</th>\n",
       "      <td>17</td>\n",
       "      <td>22</td>\n",
       "      <td>6</td>\n",
       "      <td>10</td>\n",
       "      <td>15</td>\n",
       "      <td>12</td>\n",
       "      <td>11</td>\n",
       "      <td>9</td>\n",
       "      <td>5</td>\n",
       "      <td>7</td>\n",
       "      <td>...</td>\n",
       "      <td>6</td>\n",
       "      <td>5</td>\n",
       "      <td>6</td>\n",
       "      <td>6</td>\n",
       "      <td>15</td>\n",
       "      <td>16</td>\n",
       "      <td>44</td>\n",
       "      <td>8</td>\n",
       "      <td>29</td>\n",
       "      <td>5</td>\n",
       "    </tr>\n",
       "  </tbody>\n",
       "</table>\n",
       "<p>2 rows × 25 columns</p>\n",
       "</div>"
      ],
      "text/plain": [
       "   ['LaiSeeLaiLiu', 'null', 'null', 'null', 'null']  \\\n",
       "0                                                 7   \n",
       "1                                                17   \n",
       "\n",
       "   ['LaiSeeLaiLiu', 'bobloblawblah', 'null', 'null', 'null']  \\\n",
       "0                                                  8           \n",
       "1                                                 22           \n",
       "\n",
       "   ['LaiSeeLaiLiu', 'SugarSugarSal', 'bobloblawblah', 'pizardwenis96', 'null']  \\\n",
       "0                                                  4                             \n",
       "1                                                  6                             \n",
       "\n",
       "   ['LaiSeeLaiLiu', 'SugarSugarSal', 'bobloblawblah', 'null', 'null']  \\\n",
       "0                                                  2                    \n",
       "1                                                 10                    \n",
       "\n",
       "   ['LaiSeeLaiLiu', 'bobloblawblah', 'pikevish', 'null', 'null']  \\\n",
       "0                                                  9               \n",
       "1                                                 15               \n",
       "\n",
       "   ['LaiSeeLaiLiu', 'pikevish', 'null', 'null', 'null']  \\\n",
       "0                                                  7      \n",
       "1                                                 12      \n",
       "\n",
       "   ['LaiSeeLaiLiu', 'pizardwenis96', 'null', 'null', 'null']  \\\n",
       "0                                                  4           \n",
       "1                                                 11           \n",
       "\n",
       "   ['LaiSeeLaiLiu', 'bobloblawblah', 'cheezzblob', 'null', 'null']  \\\n",
       "0                                                  5                 \n",
       "1                                                  9                 \n",
       "\n",
       "   ['JinJu', 'cheezzblob', 'null', 'null', 'null']  \\\n",
       "0                                                2   \n",
       "1                                                5   \n",
       "\n",
       "   ['PrezMango', 'SugarSugarSal', 'bobloblawblah', 'null', 'null']  ...  \\\n",
       "0                                                  3                ...   \n",
       "1                                                  7                ...   \n",
       "\n",
       "   ['Asupi', 'JinJu', 'LaiSeeLaiLiu', 'cheezzblob', 'null']  \\\n",
       "0                                                  1          \n",
       "1                                                  6          \n",
       "\n",
       "   ['Asupi', 'JinJu', 'null', 'null', 'null']  \\\n",
       "0                                           3   \n",
       "1                                           5   \n",
       "\n",
       "   ['Asupi', 'LaiSeeLaiLiu', 'cheezzblob', 'null', 'null']  \\\n",
       "0                                                  1         \n",
       "1                                                  6         \n",
       "\n",
       "   ['ETango', 'LaiSeeLaiLiu', 'jh1689', 'pikevish', 'null']  \\\n",
       "0                                                  2          \n",
       "1                                                  6          \n",
       "\n",
       "   ['LaiSeeLaiLiu', 'bobloblawblah', 'jh1689', 'pikevish', 'null']  \\\n",
       "0                                                  9                 \n",
       "1                                                 15                 \n",
       "\n",
       "   ['jh1689', 'null', 'null', 'null', 'null']  \\\n",
       "0                                           9   \n",
       "1                                          16   \n",
       "\n",
       "   ['JinJu', 'null', 'null', 'null', 'null']  \\\n",
       "0                                         22   \n",
       "1                                         44   \n",
       "\n",
       "   ['LaiSeeLaiLiu', 'SugarSugarSal', 'pikevish', 'pizardwenis96', 'null']  \\\n",
       "0                                                  4                        \n",
       "1                                                  8                        \n",
       "\n",
       "   ['PrezMango', 'null', 'null', 'null', 'null']  \\\n",
       "0                                             17   \n",
       "1                                             29   \n",
       "\n",
       "   ['SugarSugarSal', 'null', 'null', 'null', 'null']  \n",
       "0                                                  2  \n",
       "1                                                  5  \n",
       "\n",
       "[2 rows x 25 columns]"
      ]
     },
     "execution_count": 73,
     "metadata": {},
     "output_type": "execute_result"
    }
   ],
   "source": [
    "plotdf"
   ]
  },
  {
   "cell_type": "code",
   "execution_count": 82,
   "metadata": {},
   "outputs": [],
   "source": [
    "def winRate(players):\n",
    "    gamelist = []\n",
    "    wins = 0\n",
    "    games = 0\n",
    "    if len(players) == 1:\n",
    "        for team in rosters:\n",
    "            if players[0] in team:\n",
    "                gamelist.append(str(team))\n",
    "    if len(players) == 2:\n",
    "        for team in rosters:\n",
    "            if players[0] in team and players[1] in team:\n",
    "                gamelist.append(str(team))\n",
    "    if len(players) == 3:\n",
    "        for team in rosters:\n",
    "            if players[0] in team and players[1] in team and players[2] in team:\n",
    "                gamelist.append(str(team))\n",
    "    if len(players) == 4:\n",
    "        for team in rosters:\n",
    "            if players[0] in team and players[1] in team and players[2] in team and players[3] in team:\n",
    "                gamelist.append(str(team))\n",
    "    if len(players) == 5:\n",
    "        for team in rosters:\n",
    "            if players[0] in team and players[1] in team and players[2] in team and players[3] in team and players[5] in team:\n",
    "                gamelist.append(str(team))\n",
    "    for strteam in gamelist:\n",
    "        wins += narrative[strteam][0]\n",
    "        games += narrative[strteam][1]\n",
    "    winrate = wins/games\n",
    "    return winrate"
   ]
  },
  {
   "cell_type": "code",
   "execution_count": 85,
   "metadata": {},
   "outputs": [
    {
     "data": {
      "text/plain": [
       "0.47038327526132406"
      ]
     },
     "execution_count": 85,
     "metadata": {},
     "output_type": "execute_result"
    }
   ],
   "source": [
    "winRate(['LaiSeeLaiLiu'])"
   ]
  },
  {
   "cell_type": "code",
   "execution_count": null,
   "metadata": {},
   "outputs": [],
   "source": []
  },
  {
   "cell_type": "code",
   "execution_count": 23,
   "metadata": {},
   "outputs": [],
   "source": [
    "compression_opts = dict(method='zip',\n",
    "                        archive_name='out.csv')  \n",
    "df.to_csv('out.zip', index=False,\n",
    "          compression=compression_opts)  "
   ]
  }
 ],
 "metadata": {
  "kernelspec": {
   "display_name": "Python 3",
   "language": "python",
   "name": "python3"
  },
  "language_info": {
   "codemirror_mode": {
    "name": "ipython",
    "version": 3
   },
   "file_extension": ".py",
   "mimetype": "text/x-python",
   "name": "python",
   "nbconvert_exporter": "python",
   "pygments_lexer": "ipython3",
   "version": "3.8.3"
  }
 },
 "nbformat": 4,
 "nbformat_minor": 4
}
